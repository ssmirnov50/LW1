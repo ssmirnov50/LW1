{
  "nbformat": 4,
  "nbformat_minor": 0,
  "metadata": {
    "colab": {
      "provenance": [],
      "include_colab_link": true
    },
    "kernelspec": {
      "name": "python3",
      "display_name": "Python 3"
    },
    "language_info": {
      "name": "python"
    }
  },
  "cells": [
    {
      "cell_type": "markdown",
      "metadata": {
        "id": "view-in-github",
        "colab_type": "text"
      },
      "source": [
        "<a href=\"https://colab.research.google.com/github/ssmirnov50/LW1/blob/main/%D0%A1%D0%B8%D0%A2%D0%98%D0%98_2_%D0%9B%D0%A01.ipynb\" target=\"_parent\"><img src=\"https://colab.research.google.com/assets/colab-badge.svg\" alt=\"Open In Colab\"/></a>"
      ]
    },
    {
      "cell_type": "markdown",
      "source": [
        "# ЛР1 - Модели машинного обучения для классификации"
      ],
      "metadata": {
        "id": "aCbjPiq9nf9n"
      }
    },
    {
      "cell_type": "markdown",
      "source": [
        "Система обнаружения вторжений (СОВ, Intrusion Detection System, IDS) — это система, которая мониторит сетевой трафик на предмет подозрительной активности и выдает предупреждения при обнаружении такой активности. ПО, сканирующее сеть или систему на наличие вредоносной активности или нарушений политик. Любые злонамеренные действия или нарушения обычно сообщаются администратору или централизовано собираются с помощью SIEM. Система SIEM интегрирует данные из множества источников и произодит фильтрацию алертов для различения злонамеренной активности от ложных сработок.\n",
        "\n",
        "<img src=https://www.temok.com/blog/wp-content/uploads/2020/10/network2.jpg width=600/>\n",
        "\n",
        "Хостовая СОВ (Host-Based IDS, HIDS): HIDS развертывается на конкретном конечном устройстве и предназначена для защиты его от внутренних и внешних угроз. Такая система IDS может иметь возможность мониторить сетевой трафик, исходящий из машины и поступающий на нее, наблюдать за запущенными процессами и проверять системные журналы. Видимость системы обнаружения вторжений на основе хоста ограничена его хост-машиной, что снижает доступный контекст для принятия решений, но обеспечивает глубокое внутреннее видение компьютера хоста.\n",
        "\n",
        "Система обнаружения вторжений на основе сети (NIDS): Решение NIDS предназначено для мониторинга всей защищаемой сети. Оно работает по всему трафика, проходящему через сеть, и принимает решения на основе метаданных пакетов и их содержимого. Более полный \"обзор\" обеспечивает больше контекста и возможность обнаружения широкомасштабных угроз, однако эти системы не имеют информации о внутренних процессах серверов/машин.\n",
        "\n",
        "Методы обнаружения в IDS:\n",
        "Метод на основе сигнатур: IDS на основе сигнатур обнаруживает атаки на основе конкретных шаблонов, таких как количество байтов или количество единиц или нулей в сетевом трафике. Он также обнаруживает на основе уже известной злонамеренной последовательности инструкций, используемой вредоносным программным обеспечением. Обнаруженные шаблоны в IDS известны как сигнатуры. IDS на основе сигнатур может легко обнаруживать атаки, чей шаблон (сигнатура) уже существует в системе, но плохо работает с новыми атаками, поскольку их шаблон (сигнатура) неизвестен. В машинном обучении это обучение с учителем, что и будет рассматриваться в данной ЛР\n",
        "\n",
        "Метод на основе аномалий: IDS на основе аномалий был введен для обнаружения неизвестных вредоносных атак, поскольку новые вредоносные программы разрабатываются быстро. Машинное обучение в IDS на основе аномалий используется для запоминания образа \"доверенной\" активности, и все, что поступает, сравнивается с этой моделью, и объявляется подозрительным, если оно не найдено в модели. Метод на основе машинного обучения имеет лучшее обобщающее свойство по сравнению с IDS на основе сигнатур, поскольку эти модели могут быть обучены в соответствии с приложениями и конфигурациями оборудования. В машинном обучении это обучение без учителя."
      ],
      "metadata": {
        "id": "xe982IKcdPXJ"
      }
    },
    {
      "cell_type": "markdown",
      "source": [
        "---"
      ],
      "metadata": {
        "id": "zq1Yo9K3iEey"
      }
    },
    {
      "cell_type": "markdown",
      "metadata": {
        "papermill": {
          "duration": 0.01155,
          "end_time": "2022-09-16T14:45:28.767992",
          "exception": false,
          "start_time": "2022-09-16T14:45:28.756442",
          "status": "completed"
        },
        "tags": [],
        "id": "8b456134"
      },
      "source": [
        "## Импорты"
      ]
    },
    {
      "cell_type": "code",
      "execution_count": null,
      "metadata": {
        "execution": {
          "iopub.execute_input": "2022-09-16T14:45:28.793728Z",
          "iopub.status.busy": "2022-09-16T14:45:28.792911Z",
          "iopub.status.idle": "2022-09-16T14:45:38.207490Z",
          "shell.execute_reply": "2022-09-16T14:45:38.206342Z"
        },
        "papermill": {
          "duration": 9.430692,
          "end_time": "2022-09-16T14:45:38.210645",
          "exception": false,
          "start_time": "2022-09-16T14:45:28.779953",
          "status": "completed"
        },
        "tags": [],
        "id": "b3847e29"
      },
      "outputs": [],
      "source": [
        "import numpy as np\n",
        "import pandas as pd\n",
        "import warnings\n",
        "import matplotlib.pyplot as plt\n",
        "import seaborn as sns\n",
        "import tensorflow as tf\n",
        "from sklearn.decomposition import PCA\n",
        "from sklearn import tree\n",
        "from sklearn.naive_bayes import GaussianNB\n",
        "from sklearn.linear_model import LogisticRegression\n",
        "from sklearn.neighbors import KNeighborsClassifier\n",
        "from sklearn.tree import DecisionTreeClassifier\n",
        "from sklearn.preprocessing import RobustScaler\n",
        "from sklearn.ensemble import RandomForestClassifier, RandomForestRegressor\n",
        "from sklearn.model_selection import train_test_split\n",
        "from sklearn import svm\n",
        "from sklearn import metrics\n",
        "pd.set_option('display.max_columns',None)\n",
        "warnings.filterwarnings('ignore')\n",
        "%matplotlib inline"
      ]
    },
    {
      "cell_type": "markdown",
      "metadata": {
        "papermill": {
          "duration": 0.010673,
          "end_time": "2022-09-16T14:45:38.234164",
          "exception": false,
          "start_time": "2022-09-16T14:45:38.223491",
          "status": "completed"
        },
        "tags": [],
        "id": "ae5951d9"
      },
      "source": [
        "## Разведка данных"
      ]
    },
    {
      "cell_type": "code",
      "execution_count": null,
      "metadata": {
        "execution": {
          "iopub.execute_input": "2022-09-16T14:45:38.259549Z",
          "iopub.status.busy": "2022-09-16T14:45:38.258656Z",
          "iopub.status.idle": "2022-09-16T14:45:39.217951Z",
          "shell.execute_reply": "2022-09-16T14:45:39.216543Z"
        },
        "papermill": {
          "duration": 0.97535,
          "end_time": "2022-09-16T14:45:39.220940",
          "exception": false,
          "start_time": "2022-09-16T14:45:38.245590",
          "status": "completed"
        },
        "tags": [],
        "id": "54e4b9ed"
      },
      "outputs": [],
      "source": [
        "# Read Train and Test dataset\n",
        "data_train = pd.read_parquet(r'/content/drive/MyDrive/СиТИИ/СиТИИ 2/labeled_data/data_example.parquet')"
      ]
    },
    {
      "cell_type": "code",
      "execution_count": null,
      "metadata": {
        "execution": {
          "iopub.execute_input": "2022-09-16T14:45:39.389367Z",
          "iopub.status.busy": "2022-09-16T14:45:39.388432Z",
          "iopub.status.idle": "2022-09-16T14:45:39.426802Z",
          "shell.execute_reply": "2022-09-16T14:45:39.425913Z"
        },
        "papermill": {
          "duration": 0.054556,
          "end_time": "2022-09-16T14:45:39.429269",
          "exception": false,
          "start_time": "2022-09-16T14:45:39.374713",
          "status": "completed"
        },
        "tags": [],
        "id": "87ecd0a3",
        "outputId": "197be053-62fb-4ead-afc3-bea4c8b6fd5a",
        "colab": {
          "base_uri": "https://localhost:8080/",
          "height": 255
        }
      },
      "outputs": [
        {
          "output_type": "execute_result",
          "data": {
            "text/plain": [
              "   duration protocol_type  service flag  src_bytes  dst_bytes  land  \\\n",
              "0         0           udp    other   SF        146          0     0   \n",
              "1         0           tcp  private   S0          0          0     0   \n",
              "2         0           tcp     http   SF        232       8153     0   \n",
              "3         0           tcp     http   SF        199        420     0   \n",
              "4         0           tcp  private  REJ          0          0     0   \n",
              "\n",
              "   wrong_fragment  urgent  hot  ...  dst_host_same_srv_rate  \\\n",
              "0               0       0    0  ...                    0.00   \n",
              "1               0       0    0  ...                    0.10   \n",
              "2               0       0    0  ...                    1.00   \n",
              "3               0       0    0  ...                    1.00   \n",
              "4               0       0    0  ...                    0.07   \n",
              "\n",
              "   dst_host_diff_srv_rate  dst_host_same_src_port_rate  \\\n",
              "0                    0.60                         0.88   \n",
              "1                    0.05                         0.00   \n",
              "2                    0.00                         0.03   \n",
              "3                    0.00                         0.00   \n",
              "4                    0.07                         0.00   \n",
              "\n",
              "   dst_host_srv_diff_host_rate  dst_host_serror_rate  \\\n",
              "0                         0.00                  0.00   \n",
              "1                         0.00                  1.00   \n",
              "2                         0.04                  0.03   \n",
              "3                         0.00                  0.00   \n",
              "4                         0.00                  0.00   \n",
              "\n",
              "   dst_host_srv_serror_rate  dst_host_rerror_rate  dst_host_srv_rerror_rate  \\\n",
              "0                      0.00                   0.0                      0.00   \n",
              "1                      1.00                   0.0                      0.00   \n",
              "2                      0.01                   0.0                      0.01   \n",
              "3                      0.00                   0.0                      0.00   \n",
              "4                      0.00                   1.0                      1.00   \n",
              "\n",
              "     label  level  \n",
              "0   normal     15  \n",
              "1  neptune     19  \n",
              "2   normal     21  \n",
              "3   normal     21  \n",
              "4  neptune     21  \n",
              "\n",
              "[5 rows x 43 columns]"
            ],
            "text/html": [
              "\n",
              "  <div id=\"df-3b000dbb-b091-4997-93a5-3cf1746485aa\" class=\"colab-df-container\">\n",
              "    <div>\n",
              "<style scoped>\n",
              "    .dataframe tbody tr th:only-of-type {\n",
              "        vertical-align: middle;\n",
              "    }\n",
              "\n",
              "    .dataframe tbody tr th {\n",
              "        vertical-align: top;\n",
              "    }\n",
              "\n",
              "    .dataframe thead th {\n",
              "        text-align: right;\n",
              "    }\n",
              "</style>\n",
              "<table border=\"1\" class=\"dataframe\">\n",
              "  <thead>\n",
              "    <tr style=\"text-align: right;\">\n",
              "      <th></th>\n",
              "      <th>duration</th>\n",
              "      <th>protocol_type</th>\n",
              "      <th>service</th>\n",
              "      <th>flag</th>\n",
              "      <th>src_bytes</th>\n",
              "      <th>dst_bytes</th>\n",
              "      <th>land</th>\n",
              "      <th>wrong_fragment</th>\n",
              "      <th>urgent</th>\n",
              "      <th>hot</th>\n",
              "      <th>...</th>\n",
              "      <th>dst_host_same_srv_rate</th>\n",
              "      <th>dst_host_diff_srv_rate</th>\n",
              "      <th>dst_host_same_src_port_rate</th>\n",
              "      <th>dst_host_srv_diff_host_rate</th>\n",
              "      <th>dst_host_serror_rate</th>\n",
              "      <th>dst_host_srv_serror_rate</th>\n",
              "      <th>dst_host_rerror_rate</th>\n",
              "      <th>dst_host_srv_rerror_rate</th>\n",
              "      <th>label</th>\n",
              "      <th>level</th>\n",
              "    </tr>\n",
              "  </thead>\n",
              "  <tbody>\n",
              "    <tr>\n",
              "      <th>0</th>\n",
              "      <td>0</td>\n",
              "      <td>udp</td>\n",
              "      <td>other</td>\n",
              "      <td>SF</td>\n",
              "      <td>146</td>\n",
              "      <td>0</td>\n",
              "      <td>0</td>\n",
              "      <td>0</td>\n",
              "      <td>0</td>\n",
              "      <td>0</td>\n",
              "      <td>...</td>\n",
              "      <td>0.00</td>\n",
              "      <td>0.60</td>\n",
              "      <td>0.88</td>\n",
              "      <td>0.00</td>\n",
              "      <td>0.00</td>\n",
              "      <td>0.00</td>\n",
              "      <td>0.0</td>\n",
              "      <td>0.00</td>\n",
              "      <td>normal</td>\n",
              "      <td>15</td>\n",
              "    </tr>\n",
              "    <tr>\n",
              "      <th>1</th>\n",
              "      <td>0</td>\n",
              "      <td>tcp</td>\n",
              "      <td>private</td>\n",
              "      <td>S0</td>\n",
              "      <td>0</td>\n",
              "      <td>0</td>\n",
              "      <td>0</td>\n",
              "      <td>0</td>\n",
              "      <td>0</td>\n",
              "      <td>0</td>\n",
              "      <td>...</td>\n",
              "      <td>0.10</td>\n",
              "      <td>0.05</td>\n",
              "      <td>0.00</td>\n",
              "      <td>0.00</td>\n",
              "      <td>1.00</td>\n",
              "      <td>1.00</td>\n",
              "      <td>0.0</td>\n",
              "      <td>0.00</td>\n",
              "      <td>neptune</td>\n",
              "      <td>19</td>\n",
              "    </tr>\n",
              "    <tr>\n",
              "      <th>2</th>\n",
              "      <td>0</td>\n",
              "      <td>tcp</td>\n",
              "      <td>http</td>\n",
              "      <td>SF</td>\n",
              "      <td>232</td>\n",
              "      <td>8153</td>\n",
              "      <td>0</td>\n",
              "      <td>0</td>\n",
              "      <td>0</td>\n",
              "      <td>0</td>\n",
              "      <td>...</td>\n",
              "      <td>1.00</td>\n",
              "      <td>0.00</td>\n",
              "      <td>0.03</td>\n",
              "      <td>0.04</td>\n",
              "      <td>0.03</td>\n",
              "      <td>0.01</td>\n",
              "      <td>0.0</td>\n",
              "      <td>0.01</td>\n",
              "      <td>normal</td>\n",
              "      <td>21</td>\n",
              "    </tr>\n",
              "    <tr>\n",
              "      <th>3</th>\n",
              "      <td>0</td>\n",
              "      <td>tcp</td>\n",
              "      <td>http</td>\n",
              "      <td>SF</td>\n",
              "      <td>199</td>\n",
              "      <td>420</td>\n",
              "      <td>0</td>\n",
              "      <td>0</td>\n",
              "      <td>0</td>\n",
              "      <td>0</td>\n",
              "      <td>...</td>\n",
              "      <td>1.00</td>\n",
              "      <td>0.00</td>\n",
              "      <td>0.00</td>\n",
              "      <td>0.00</td>\n",
              "      <td>0.00</td>\n",
              "      <td>0.00</td>\n",
              "      <td>0.0</td>\n",
              "      <td>0.00</td>\n",
              "      <td>normal</td>\n",
              "      <td>21</td>\n",
              "    </tr>\n",
              "    <tr>\n",
              "      <th>4</th>\n",
              "      <td>0</td>\n",
              "      <td>tcp</td>\n",
              "      <td>private</td>\n",
              "      <td>REJ</td>\n",
              "      <td>0</td>\n",
              "      <td>0</td>\n",
              "      <td>0</td>\n",
              "      <td>0</td>\n",
              "      <td>0</td>\n",
              "      <td>0</td>\n",
              "      <td>...</td>\n",
              "      <td>0.07</td>\n",
              "      <td>0.07</td>\n",
              "      <td>0.00</td>\n",
              "      <td>0.00</td>\n",
              "      <td>0.00</td>\n",
              "      <td>0.00</td>\n",
              "      <td>1.0</td>\n",
              "      <td>1.00</td>\n",
              "      <td>neptune</td>\n",
              "      <td>21</td>\n",
              "    </tr>\n",
              "  </tbody>\n",
              "</table>\n",
              "<p>5 rows × 43 columns</p>\n",
              "</div>\n",
              "    <div class=\"colab-df-buttons\">\n",
              "\n",
              "  <div class=\"colab-df-container\">\n",
              "    <button class=\"colab-df-convert\" onclick=\"convertToInteractive('df-3b000dbb-b091-4997-93a5-3cf1746485aa')\"\n",
              "            title=\"Convert this dataframe to an interactive table.\"\n",
              "            style=\"display:none;\">\n",
              "\n",
              "  <svg xmlns=\"http://www.w3.org/2000/svg\" height=\"24px\" viewBox=\"0 -960 960 960\">\n",
              "    <path d=\"M120-120v-720h720v720H120Zm60-500h600v-160H180v160Zm220 220h160v-160H400v160Zm0 220h160v-160H400v160ZM180-400h160v-160H180v160Zm440 0h160v-160H620v160ZM180-180h160v-160H180v160Zm440 0h160v-160H620v160Z\"/>\n",
              "  </svg>\n",
              "    </button>\n",
              "\n",
              "  <style>\n",
              "    .colab-df-container {\n",
              "      display:flex;\n",
              "      gap: 12px;\n",
              "    }\n",
              "\n",
              "    .colab-df-convert {\n",
              "      background-color: #E8F0FE;\n",
              "      border: none;\n",
              "      border-radius: 50%;\n",
              "      cursor: pointer;\n",
              "      display: none;\n",
              "      fill: #1967D2;\n",
              "      height: 32px;\n",
              "      padding: 0 0 0 0;\n",
              "      width: 32px;\n",
              "    }\n",
              "\n",
              "    .colab-df-convert:hover {\n",
              "      background-color: #E2EBFA;\n",
              "      box-shadow: 0px 1px 2px rgba(60, 64, 67, 0.3), 0px 1px 3px 1px rgba(60, 64, 67, 0.15);\n",
              "      fill: #174EA6;\n",
              "    }\n",
              "\n",
              "    .colab-df-buttons div {\n",
              "      margin-bottom: 4px;\n",
              "    }\n",
              "\n",
              "    [theme=dark] .colab-df-convert {\n",
              "      background-color: #3B4455;\n",
              "      fill: #D2E3FC;\n",
              "    }\n",
              "\n",
              "    [theme=dark] .colab-df-convert:hover {\n",
              "      background-color: #434B5C;\n",
              "      box-shadow: 0px 1px 3px 1px rgba(0, 0, 0, 0.15);\n",
              "      filter: drop-shadow(0px 1px 2px rgba(0, 0, 0, 0.3));\n",
              "      fill: #FFFFFF;\n",
              "    }\n",
              "  </style>\n",
              "\n",
              "    <script>\n",
              "      const buttonEl =\n",
              "        document.querySelector('#df-3b000dbb-b091-4997-93a5-3cf1746485aa button.colab-df-convert');\n",
              "      buttonEl.style.display =\n",
              "        google.colab.kernel.accessAllowed ? 'block' : 'none';\n",
              "\n",
              "      async function convertToInteractive(key) {\n",
              "        const element = document.querySelector('#df-3b000dbb-b091-4997-93a5-3cf1746485aa');\n",
              "        const dataTable =\n",
              "          await google.colab.kernel.invokeFunction('convertToInteractive',\n",
              "                                                    [key], {});\n",
              "        if (!dataTable) return;\n",
              "\n",
              "        const docLinkHtml = 'Like what you see? Visit the ' +\n",
              "          '<a target=\"_blank\" href=https://colab.research.google.com/notebooks/data_table.ipynb>data table notebook</a>'\n",
              "          + ' to learn more about interactive tables.';\n",
              "        element.innerHTML = '';\n",
              "        dataTable['output_type'] = 'display_data';\n",
              "        await google.colab.output.renderOutput(dataTable, element);\n",
              "        const docLink = document.createElement('div');\n",
              "        docLink.innerHTML = docLinkHtml;\n",
              "        element.appendChild(docLink);\n",
              "      }\n",
              "    </script>\n",
              "  </div>\n",
              "\n",
              "\n",
              "<div id=\"df-476c2159-a270-44a6-92e2-a82c22b75434\">\n",
              "  <button class=\"colab-df-quickchart\" onclick=\"quickchart('df-476c2159-a270-44a6-92e2-a82c22b75434')\"\n",
              "            title=\"Suggest charts\"\n",
              "            style=\"display:none;\">\n",
              "\n",
              "<svg xmlns=\"http://www.w3.org/2000/svg\" height=\"24px\"viewBox=\"0 0 24 24\"\n",
              "     width=\"24px\">\n",
              "    <g>\n",
              "        <path d=\"M19 3H5c-1.1 0-2 .9-2 2v14c0 1.1.9 2 2 2h14c1.1 0 2-.9 2-2V5c0-1.1-.9-2-2-2zM9 17H7v-7h2v7zm4 0h-2V7h2v10zm4 0h-2v-4h2v4z\"/>\n",
              "    </g>\n",
              "</svg>\n",
              "  </button>\n",
              "\n",
              "<style>\n",
              "  .colab-df-quickchart {\n",
              "      --bg-color: #E8F0FE;\n",
              "      --fill-color: #1967D2;\n",
              "      --hover-bg-color: #E2EBFA;\n",
              "      --hover-fill-color: #174EA6;\n",
              "      --disabled-fill-color: #AAA;\n",
              "      --disabled-bg-color: #DDD;\n",
              "  }\n",
              "\n",
              "  [theme=dark] .colab-df-quickchart {\n",
              "      --bg-color: #3B4455;\n",
              "      --fill-color: #D2E3FC;\n",
              "      --hover-bg-color: #434B5C;\n",
              "      --hover-fill-color: #FFFFFF;\n",
              "      --disabled-bg-color: #3B4455;\n",
              "      --disabled-fill-color: #666;\n",
              "  }\n",
              "\n",
              "  .colab-df-quickchart {\n",
              "    background-color: var(--bg-color);\n",
              "    border: none;\n",
              "    border-radius: 50%;\n",
              "    cursor: pointer;\n",
              "    display: none;\n",
              "    fill: var(--fill-color);\n",
              "    height: 32px;\n",
              "    padding: 0;\n",
              "    width: 32px;\n",
              "  }\n",
              "\n",
              "  .colab-df-quickchart:hover {\n",
              "    background-color: var(--hover-bg-color);\n",
              "    box-shadow: 0 1px 2px rgba(60, 64, 67, 0.3), 0 1px 3px 1px rgba(60, 64, 67, 0.15);\n",
              "    fill: var(--button-hover-fill-color);\n",
              "  }\n",
              "\n",
              "  .colab-df-quickchart-complete:disabled,\n",
              "  .colab-df-quickchart-complete:disabled:hover {\n",
              "    background-color: var(--disabled-bg-color);\n",
              "    fill: var(--disabled-fill-color);\n",
              "    box-shadow: none;\n",
              "  }\n",
              "\n",
              "  .colab-df-spinner {\n",
              "    border: 2px solid var(--fill-color);\n",
              "    border-color: transparent;\n",
              "    border-bottom-color: var(--fill-color);\n",
              "    animation:\n",
              "      spin 1s steps(1) infinite;\n",
              "  }\n",
              "\n",
              "  @keyframes spin {\n",
              "    0% {\n",
              "      border-color: transparent;\n",
              "      border-bottom-color: var(--fill-color);\n",
              "      border-left-color: var(--fill-color);\n",
              "    }\n",
              "    20% {\n",
              "      border-color: transparent;\n",
              "      border-left-color: var(--fill-color);\n",
              "      border-top-color: var(--fill-color);\n",
              "    }\n",
              "    30% {\n",
              "      border-color: transparent;\n",
              "      border-left-color: var(--fill-color);\n",
              "      border-top-color: var(--fill-color);\n",
              "      border-right-color: var(--fill-color);\n",
              "    }\n",
              "    40% {\n",
              "      border-color: transparent;\n",
              "      border-right-color: var(--fill-color);\n",
              "      border-top-color: var(--fill-color);\n",
              "    }\n",
              "    60% {\n",
              "      border-color: transparent;\n",
              "      border-right-color: var(--fill-color);\n",
              "    }\n",
              "    80% {\n",
              "      border-color: transparent;\n",
              "      border-right-color: var(--fill-color);\n",
              "      border-bottom-color: var(--fill-color);\n",
              "    }\n",
              "    90% {\n",
              "      border-color: transparent;\n",
              "      border-bottom-color: var(--fill-color);\n",
              "    }\n",
              "  }\n",
              "</style>\n",
              "\n",
              "  <script>\n",
              "    async function quickchart(key) {\n",
              "      const quickchartButtonEl =\n",
              "        document.querySelector('#' + key + ' button');\n",
              "      quickchartButtonEl.disabled = true;  // To prevent multiple clicks.\n",
              "      quickchartButtonEl.classList.add('colab-df-spinner');\n",
              "      try {\n",
              "        const charts = await google.colab.kernel.invokeFunction(\n",
              "            'suggestCharts', [key], {});\n",
              "      } catch (error) {\n",
              "        console.error('Error during call to suggestCharts:', error);\n",
              "      }\n",
              "      quickchartButtonEl.classList.remove('colab-df-spinner');\n",
              "      quickchartButtonEl.classList.add('colab-df-quickchart-complete');\n",
              "    }\n",
              "    (() => {\n",
              "      let quickchartButtonEl =\n",
              "        document.querySelector('#df-476c2159-a270-44a6-92e2-a82c22b75434 button');\n",
              "      quickchartButtonEl.style.display =\n",
              "        google.colab.kernel.accessAllowed ? 'block' : 'none';\n",
              "    })();\n",
              "  </script>\n",
              "</div>\n",
              "    </div>\n",
              "  </div>\n"
            ],
            "application/vnd.google.colaboratory.intrinsic+json": {
              "type": "dataframe",
              "variable_name": "data_train"
            }
          },
          "metadata": {},
          "execution_count": 3
        }
      ],
      "source": [
        "data_train.head()"
      ]
    },
    {
      "cell_type": "code",
      "execution_count": null,
      "metadata": {
        "execution": {
          "iopub.execute_input": "2022-09-16T14:45:39.456506Z",
          "iopub.status.busy": "2022-09-16T14:45:39.455666Z",
          "iopub.status.idle": "2022-09-16T14:45:39.522400Z",
          "shell.execute_reply": "2022-09-16T14:45:39.520869Z"
        },
        "papermill": {
          "duration": 0.084152,
          "end_time": "2022-09-16T14:45:39.525864",
          "exception": false,
          "start_time": "2022-09-16T14:45:39.441712",
          "status": "completed"
        },
        "tags": [],
        "id": "fe900180",
        "outputId": "7336fd83-86f5-4773-8c6e-53be92d78903",
        "colab": {
          "base_uri": "https://localhost:8080/"
        }
      },
      "outputs": [
        {
          "output_type": "stream",
          "name": "stdout",
          "text": [
            "<class 'pandas.core.frame.DataFrame'>\n",
            "RangeIndex: 125972 entries, 0 to 125971\n",
            "Data columns (total 43 columns):\n",
            " #   Column                       Non-Null Count   Dtype   \n",
            "---  ------                       --------------   -----   \n",
            " 0   duration                     125972 non-null  int32   \n",
            " 1   protocol_type                125972 non-null  category\n",
            " 2   service                      125972 non-null  category\n",
            " 3   flag                         125972 non-null  category\n",
            " 4   src_bytes                    125972 non-null  int32   \n",
            " 5   dst_bytes                    125972 non-null  int32   \n",
            " 6   land                         125972 non-null  int8    \n",
            " 7   wrong_fragment               125972 non-null  int8    \n",
            " 8   urgent                       125972 non-null  int8    \n",
            " 9   hot                          125972 non-null  int8    \n",
            " 10  num_failed_logins            125972 non-null  int8    \n",
            " 11  logged_in                    125972 non-null  int8    \n",
            " 12  num_compromised              125972 non-null  int16   \n",
            " 13  root_shell                   125972 non-null  int8    \n",
            " 14  su_attempted                 125972 non-null  int8    \n",
            " 15  num_root                     125972 non-null  int16   \n",
            " 16  num_file_creations           125972 non-null  int8    \n",
            " 17  num_shells                   125972 non-null  int8    \n",
            " 18  num_access_files             125972 non-null  int8    \n",
            " 19  num_outbound_cmds            125972 non-null  int8    \n",
            " 20  is_host_login                125972 non-null  int8    \n",
            " 21  is_guest_login               125972 non-null  int8    \n",
            " 22  count                        125972 non-null  int16   \n",
            " 23  srv_count                    125972 non-null  int16   \n",
            " 24  serror_rate                  125972 non-null  float32 \n",
            " 25  srv_serror_rate              125972 non-null  float32 \n",
            " 26  rerror_rate                  125972 non-null  float32 \n",
            " 27  srv_rerror_rate              125972 non-null  float32 \n",
            " 28  same_srv_rate                125972 non-null  float32 \n",
            " 29  diff_srv_rate                125972 non-null  float32 \n",
            " 30  srv_diff_host_rate           125972 non-null  float32 \n",
            " 31  dst_host_count               125972 non-null  int16   \n",
            " 32  dst_host_srv_count           125972 non-null  int16   \n",
            " 33  dst_host_same_srv_rate       125972 non-null  float32 \n",
            " 34  dst_host_diff_srv_rate       125972 non-null  float32 \n",
            " 35  dst_host_same_src_port_rate  125972 non-null  float32 \n",
            " 36  dst_host_srv_diff_host_rate  125972 non-null  float32 \n",
            " 37  dst_host_serror_rate         125972 non-null  float32 \n",
            " 38  dst_host_srv_serror_rate     125972 non-null  float32 \n",
            " 39  dst_host_rerror_rate         125972 non-null  float32 \n",
            " 40  dst_host_srv_rerror_rate     125972 non-null  float32 \n",
            " 41  label                        125972 non-null  category\n",
            " 42  level                        125972 non-null  int8    \n",
            "dtypes: category(4), float32(15), int16(6), int32(3), int8(15)\n",
            "memory usage: 12.4 MB\n"
          ]
        }
      ],
      "source": [
        "data_train.info()"
      ]
    },
    {
      "cell_type": "code",
      "execution_count": null,
      "metadata": {
        "execution": {
          "iopub.execute_input": "2022-09-16T14:45:39.554448Z",
          "iopub.status.busy": "2022-09-16T14:45:39.553682Z",
          "iopub.status.idle": "2022-09-16T14:45:39.973124Z",
          "shell.execute_reply": "2022-09-16T14:45:39.971884Z"
        },
        "papermill": {
          "duration": 0.436803,
          "end_time": "2022-09-16T14:45:39.976036",
          "exception": false,
          "start_time": "2022-09-16T14:45:39.539233",
          "status": "completed"
        },
        "tags": [],
        "id": "608b6776",
        "outputId": "95b6634d-fe64-4b70-f10f-fd46eba75983",
        "colab": {
          "base_uri": "https://localhost:8080/",
          "height": 320
        }
      },
      "outputs": [
        {
          "output_type": "execute_result",
          "data": {
            "text/plain": [
              "<pandas.io.formats.style.Styler at 0x78c1ef558400>"
            ],
            "text/html": [
              "<style type=\"text/css\">\n",
              "#T_fd5b2_row0_col0, #T_fd5b2_row0_col3, #T_fd5b2_row0_col4, #T_fd5b2_row0_col5, #T_fd5b2_row0_col6, #T_fd5b2_row0_col7, #T_fd5b2_row0_col8, #T_fd5b2_row0_col9, #T_fd5b2_row0_col10, #T_fd5b2_row0_col11, #T_fd5b2_row0_col12, #T_fd5b2_row0_col13, #T_fd5b2_row0_col14, #T_fd5b2_row0_col15, #T_fd5b2_row0_col16, #T_fd5b2_row0_col17, #T_fd5b2_row0_col18, #T_fd5b2_row0_col19, #T_fd5b2_row0_col20, #T_fd5b2_row0_col21, #T_fd5b2_row0_col22, #T_fd5b2_row0_col23, #T_fd5b2_row0_col24, #T_fd5b2_row0_col25, #T_fd5b2_row0_col26, #T_fd5b2_row0_col27, #T_fd5b2_row0_col28, #T_fd5b2_row0_col29, #T_fd5b2_row0_col30, #T_fd5b2_row0_col31, #T_fd5b2_row0_col32, #T_fd5b2_row0_col33, #T_fd5b2_row0_col34, #T_fd5b2_row0_col35, #T_fd5b2_row0_col36, #T_fd5b2_row0_col37, #T_fd5b2_row0_col38, #T_fd5b2_row7_col1, #T_fd5b2_row7_col2 {\n",
              "  background-color: #08306b;\n",
              "  color: #f1f1f1;\n",
              "  font-family: Segoe UI;\n",
              "}\n",
              "#T_fd5b2_row0_col1, #T_fd5b2_row0_col2, #T_fd5b2_row1_col0, #T_fd5b2_row1_col1, #T_fd5b2_row1_col2, #T_fd5b2_row1_col3, #T_fd5b2_row1_col4, #T_fd5b2_row1_col5, #T_fd5b2_row1_col6, #T_fd5b2_row1_col7, #T_fd5b2_row1_col8, #T_fd5b2_row1_col9, #T_fd5b2_row1_col10, #T_fd5b2_row1_col11, #T_fd5b2_row1_col12, #T_fd5b2_row1_col13, #T_fd5b2_row1_col14, #T_fd5b2_row1_col15, #T_fd5b2_row1_col16, #T_fd5b2_row1_col17, #T_fd5b2_row1_col18, #T_fd5b2_row1_col19, #T_fd5b2_row1_col20, #T_fd5b2_row1_col21, #T_fd5b2_row1_col22, #T_fd5b2_row1_col23, #T_fd5b2_row1_col24, #T_fd5b2_row1_col25, #T_fd5b2_row1_col26, #T_fd5b2_row1_col27, #T_fd5b2_row1_col28, #T_fd5b2_row1_col29, #T_fd5b2_row1_col30, #T_fd5b2_row1_col31, #T_fd5b2_row1_col32, #T_fd5b2_row1_col33, #T_fd5b2_row1_col34, #T_fd5b2_row1_col35, #T_fd5b2_row1_col36, #T_fd5b2_row1_col37, #T_fd5b2_row1_col38, #T_fd5b2_row2_col2, #T_fd5b2_row2_col3, #T_fd5b2_row2_col4, #T_fd5b2_row2_col5, #T_fd5b2_row2_col6, #T_fd5b2_row2_col7, #T_fd5b2_row2_col8, #T_fd5b2_row2_col9, #T_fd5b2_row2_col10, #T_fd5b2_row2_col11, #T_fd5b2_row2_col12, #T_fd5b2_row2_col13, #T_fd5b2_row2_col14, #T_fd5b2_row2_col15, #T_fd5b2_row2_col16, #T_fd5b2_row2_col17, #T_fd5b2_row2_col18, #T_fd5b2_row2_col19, #T_fd5b2_row2_col20, #T_fd5b2_row2_col21, #T_fd5b2_row2_col22, #T_fd5b2_row2_col23, #T_fd5b2_row2_col24, #T_fd5b2_row2_col25, #T_fd5b2_row2_col26, #T_fd5b2_row2_col27, #T_fd5b2_row2_col28, #T_fd5b2_row2_col29, #T_fd5b2_row2_col30, #T_fd5b2_row2_col31, #T_fd5b2_row2_col32, #T_fd5b2_row2_col33, #T_fd5b2_row2_col34, #T_fd5b2_row2_col35, #T_fd5b2_row2_col36, #T_fd5b2_row2_col37, #T_fd5b2_row2_col38, #T_fd5b2_row3_col0, #T_fd5b2_row3_col1, #T_fd5b2_row3_col2, #T_fd5b2_row3_col3, #T_fd5b2_row3_col4, #T_fd5b2_row3_col5, #T_fd5b2_row3_col6, #T_fd5b2_row3_col7, #T_fd5b2_row3_col8, #T_fd5b2_row3_col9, #T_fd5b2_row3_col10, #T_fd5b2_row3_col11, #T_fd5b2_row3_col12, #T_fd5b2_row3_col13, #T_fd5b2_row3_col14, #T_fd5b2_row3_col15, #T_fd5b2_row3_col16, #T_fd5b2_row3_col17, #T_fd5b2_row3_col18, #T_fd5b2_row3_col19, #T_fd5b2_row3_col20, #T_fd5b2_row3_col21, #T_fd5b2_row3_col22, #T_fd5b2_row3_col23, #T_fd5b2_row3_col24, #T_fd5b2_row3_col25, #T_fd5b2_row3_col26, #T_fd5b2_row3_col27, #T_fd5b2_row3_col28, #T_fd5b2_row3_col29, #T_fd5b2_row3_col30, #T_fd5b2_row3_col31, #T_fd5b2_row3_col32, #T_fd5b2_row3_col33, #T_fd5b2_row3_col34, #T_fd5b2_row3_col35, #T_fd5b2_row3_col36, #T_fd5b2_row3_col37, #T_fd5b2_row3_col38, #T_fd5b2_row4_col0, #T_fd5b2_row4_col1, #T_fd5b2_row4_col2, #T_fd5b2_row4_col3, #T_fd5b2_row4_col4, #T_fd5b2_row4_col5, #T_fd5b2_row4_col6, #T_fd5b2_row4_col7, #T_fd5b2_row4_col8, #T_fd5b2_row4_col9, #T_fd5b2_row4_col10, #T_fd5b2_row4_col11, #T_fd5b2_row4_col12, #T_fd5b2_row4_col13, #T_fd5b2_row4_col14, #T_fd5b2_row4_col15, #T_fd5b2_row4_col16, #T_fd5b2_row4_col17, #T_fd5b2_row4_col18, #T_fd5b2_row4_col19, #T_fd5b2_row4_col20, #T_fd5b2_row4_col21, #T_fd5b2_row4_col22, #T_fd5b2_row4_col23, #T_fd5b2_row4_col24, #T_fd5b2_row4_col25, #T_fd5b2_row4_col26, #T_fd5b2_row4_col27, #T_fd5b2_row4_col28, #T_fd5b2_row4_col29, #T_fd5b2_row4_col30, #T_fd5b2_row4_col31, #T_fd5b2_row4_col32, #T_fd5b2_row4_col33, #T_fd5b2_row4_col34, #T_fd5b2_row4_col35, #T_fd5b2_row4_col36, #T_fd5b2_row4_col37, #T_fd5b2_row4_col38, #T_fd5b2_row5_col0, #T_fd5b2_row5_col1, #T_fd5b2_row5_col2, #T_fd5b2_row5_col3, #T_fd5b2_row5_col4, #T_fd5b2_row5_col5, #T_fd5b2_row5_col6, #T_fd5b2_row5_col7, #T_fd5b2_row5_col8, #T_fd5b2_row5_col9, #T_fd5b2_row5_col10, #T_fd5b2_row5_col11, #T_fd5b2_row5_col12, #T_fd5b2_row5_col13, #T_fd5b2_row5_col14, #T_fd5b2_row5_col15, #T_fd5b2_row5_col16, #T_fd5b2_row5_col17, #T_fd5b2_row5_col18, #T_fd5b2_row5_col19, #T_fd5b2_row5_col20, #T_fd5b2_row5_col21, #T_fd5b2_row5_col22, #T_fd5b2_row5_col23, #T_fd5b2_row5_col24, #T_fd5b2_row5_col25, #T_fd5b2_row5_col26, #T_fd5b2_row5_col27, #T_fd5b2_row5_col28, #T_fd5b2_row5_col29, #T_fd5b2_row5_col30, #T_fd5b2_row5_col31, #T_fd5b2_row5_col32, #T_fd5b2_row5_col33, #T_fd5b2_row5_col34, #T_fd5b2_row5_col35, #T_fd5b2_row5_col36, #T_fd5b2_row5_col37, #T_fd5b2_row5_col38, #T_fd5b2_row6_col0, #T_fd5b2_row6_col1, #T_fd5b2_row6_col2, #T_fd5b2_row6_col3, #T_fd5b2_row6_col4, #T_fd5b2_row6_col5, #T_fd5b2_row6_col6, #T_fd5b2_row6_col7, #T_fd5b2_row6_col8, #T_fd5b2_row6_col9, #T_fd5b2_row6_col10, #T_fd5b2_row6_col11, #T_fd5b2_row6_col12, #T_fd5b2_row6_col13, #T_fd5b2_row6_col14, #T_fd5b2_row6_col15, #T_fd5b2_row6_col16, #T_fd5b2_row6_col17, #T_fd5b2_row6_col18, #T_fd5b2_row6_col19, #T_fd5b2_row6_col20, #T_fd5b2_row6_col21, #T_fd5b2_row6_col22, #T_fd5b2_row6_col23, #T_fd5b2_row6_col24, #T_fd5b2_row6_col25, #T_fd5b2_row6_col26, #T_fd5b2_row6_col27, #T_fd5b2_row6_col28, #T_fd5b2_row6_col29, #T_fd5b2_row6_col30, #T_fd5b2_row6_col31, #T_fd5b2_row6_col32, #T_fd5b2_row6_col33, #T_fd5b2_row6_col34, #T_fd5b2_row6_col35, #T_fd5b2_row6_col36, #T_fd5b2_row6_col37, #T_fd5b2_row6_col38, #T_fd5b2_row7_col3, #T_fd5b2_row7_col4, #T_fd5b2_row7_col5, #T_fd5b2_row7_col6, #T_fd5b2_row7_col7, #T_fd5b2_row7_col8, #T_fd5b2_row7_col10, #T_fd5b2_row7_col11, #T_fd5b2_row7_col13, #T_fd5b2_row7_col14, #T_fd5b2_row7_col15, #T_fd5b2_row7_col16, #T_fd5b2_row7_col17, #T_fd5b2_row7_col18, #T_fd5b2_row7_col21, #T_fd5b2_row7_col22, #T_fd5b2_row7_col23, #T_fd5b2_row7_col24, #T_fd5b2_row7_col25, #T_fd5b2_row7_col26, #T_fd5b2_row7_col27, #T_fd5b2_row7_col28, #T_fd5b2_row7_col29, #T_fd5b2_row7_col30, #T_fd5b2_row7_col31, #T_fd5b2_row7_col32, #T_fd5b2_row7_col33, #T_fd5b2_row7_col34, #T_fd5b2_row7_col35, #T_fd5b2_row7_col36, #T_fd5b2_row7_col37, #T_fd5b2_row7_col38 {\n",
              "  background-color: #f7fbff;\n",
              "  color: #000000;\n",
              "  font-family: Segoe UI;\n",
              "}\n",
              "#T_fd5b2_row2_col0 {\n",
              "  background-color: #f3f8fe;\n",
              "  color: #000000;\n",
              "  font-family: Segoe UI;\n",
              "}\n",
              "#T_fd5b2_row2_col1, #T_fd5b2_row7_col19, #T_fd5b2_row7_col20 {\n",
              "  background-color: #f6faff;\n",
              "  color: #000000;\n",
              "  font-family: Segoe UI;\n",
              "}\n",
              "#T_fd5b2_row7_col0 {\n",
              "  background-color: #a9cfe5;\n",
              "  color: #000000;\n",
              "  font-family: Segoe UI;\n",
              "}\n",
              "#T_fd5b2_row7_col9, #T_fd5b2_row7_col12 {\n",
              "  background-color: #ebf3fb;\n",
              "  color: #000000;\n",
              "  font-family: Segoe UI;\n",
              "}\n",
              "</style>\n",
              "<table id=\"T_fd5b2\" class=\"dataframe\">\n",
              "  <thead>\n",
              "    <tr>\n",
              "      <th class=\"blank level0\" >&nbsp;</th>\n",
              "      <th id=\"T_fd5b2_level0_col0\" class=\"col_heading level0 col0\" >duration</th>\n",
              "      <th id=\"T_fd5b2_level0_col1\" class=\"col_heading level0 col1\" >src_bytes</th>\n",
              "      <th id=\"T_fd5b2_level0_col2\" class=\"col_heading level0 col2\" >dst_bytes</th>\n",
              "      <th id=\"T_fd5b2_level0_col3\" class=\"col_heading level0 col3\" >land</th>\n",
              "      <th id=\"T_fd5b2_level0_col4\" class=\"col_heading level0 col4\" >wrong_fragment</th>\n",
              "      <th id=\"T_fd5b2_level0_col5\" class=\"col_heading level0 col5\" >urgent</th>\n",
              "      <th id=\"T_fd5b2_level0_col6\" class=\"col_heading level0 col6\" >hot</th>\n",
              "      <th id=\"T_fd5b2_level0_col7\" class=\"col_heading level0 col7\" >num_failed_logins</th>\n",
              "      <th id=\"T_fd5b2_level0_col8\" class=\"col_heading level0 col8\" >logged_in</th>\n",
              "      <th id=\"T_fd5b2_level0_col9\" class=\"col_heading level0 col9\" >num_compromised</th>\n",
              "      <th id=\"T_fd5b2_level0_col10\" class=\"col_heading level0 col10\" >root_shell</th>\n",
              "      <th id=\"T_fd5b2_level0_col11\" class=\"col_heading level0 col11\" >su_attempted</th>\n",
              "      <th id=\"T_fd5b2_level0_col12\" class=\"col_heading level0 col12\" >num_root</th>\n",
              "      <th id=\"T_fd5b2_level0_col13\" class=\"col_heading level0 col13\" >num_file_creations</th>\n",
              "      <th id=\"T_fd5b2_level0_col14\" class=\"col_heading level0 col14\" >num_shells</th>\n",
              "      <th id=\"T_fd5b2_level0_col15\" class=\"col_heading level0 col15\" >num_access_files</th>\n",
              "      <th id=\"T_fd5b2_level0_col16\" class=\"col_heading level0 col16\" >num_outbound_cmds</th>\n",
              "      <th id=\"T_fd5b2_level0_col17\" class=\"col_heading level0 col17\" >is_host_login</th>\n",
              "      <th id=\"T_fd5b2_level0_col18\" class=\"col_heading level0 col18\" >is_guest_login</th>\n",
              "      <th id=\"T_fd5b2_level0_col19\" class=\"col_heading level0 col19\" >count</th>\n",
              "      <th id=\"T_fd5b2_level0_col20\" class=\"col_heading level0 col20\" >srv_count</th>\n",
              "      <th id=\"T_fd5b2_level0_col21\" class=\"col_heading level0 col21\" >serror_rate</th>\n",
              "      <th id=\"T_fd5b2_level0_col22\" class=\"col_heading level0 col22\" >srv_serror_rate</th>\n",
              "      <th id=\"T_fd5b2_level0_col23\" class=\"col_heading level0 col23\" >rerror_rate</th>\n",
              "      <th id=\"T_fd5b2_level0_col24\" class=\"col_heading level0 col24\" >srv_rerror_rate</th>\n",
              "      <th id=\"T_fd5b2_level0_col25\" class=\"col_heading level0 col25\" >same_srv_rate</th>\n",
              "      <th id=\"T_fd5b2_level0_col26\" class=\"col_heading level0 col26\" >diff_srv_rate</th>\n",
              "      <th id=\"T_fd5b2_level0_col27\" class=\"col_heading level0 col27\" >srv_diff_host_rate</th>\n",
              "      <th id=\"T_fd5b2_level0_col28\" class=\"col_heading level0 col28\" >dst_host_count</th>\n",
              "      <th id=\"T_fd5b2_level0_col29\" class=\"col_heading level0 col29\" >dst_host_srv_count</th>\n",
              "      <th id=\"T_fd5b2_level0_col30\" class=\"col_heading level0 col30\" >dst_host_same_srv_rate</th>\n",
              "      <th id=\"T_fd5b2_level0_col31\" class=\"col_heading level0 col31\" >dst_host_diff_srv_rate</th>\n",
              "      <th id=\"T_fd5b2_level0_col32\" class=\"col_heading level0 col32\" >dst_host_same_src_port_rate</th>\n",
              "      <th id=\"T_fd5b2_level0_col33\" class=\"col_heading level0 col33\" >dst_host_srv_diff_host_rate</th>\n",
              "      <th id=\"T_fd5b2_level0_col34\" class=\"col_heading level0 col34\" >dst_host_serror_rate</th>\n",
              "      <th id=\"T_fd5b2_level0_col35\" class=\"col_heading level0 col35\" >dst_host_srv_serror_rate</th>\n",
              "      <th id=\"T_fd5b2_level0_col36\" class=\"col_heading level0 col36\" >dst_host_rerror_rate</th>\n",
              "      <th id=\"T_fd5b2_level0_col37\" class=\"col_heading level0 col37\" >dst_host_srv_rerror_rate</th>\n",
              "      <th id=\"T_fd5b2_level0_col38\" class=\"col_heading level0 col38\" >level</th>\n",
              "    </tr>\n",
              "  </thead>\n",
              "  <tbody>\n",
              "    <tr>\n",
              "      <th id=\"T_fd5b2_level0_row0\" class=\"row_heading level0 row0\" >count</th>\n",
              "      <td id=\"T_fd5b2_row0_col0\" class=\"data row0 col0\" >125972.000000</td>\n",
              "      <td id=\"T_fd5b2_row0_col1\" class=\"data row0 col1\" >125972.000000</td>\n",
              "      <td id=\"T_fd5b2_row0_col2\" class=\"data row0 col2\" >125972.000000</td>\n",
              "      <td id=\"T_fd5b2_row0_col3\" class=\"data row0 col3\" >125972.000000</td>\n",
              "      <td id=\"T_fd5b2_row0_col4\" class=\"data row0 col4\" >125972.000000</td>\n",
              "      <td id=\"T_fd5b2_row0_col5\" class=\"data row0 col5\" >125972.000000</td>\n",
              "      <td id=\"T_fd5b2_row0_col6\" class=\"data row0 col6\" >125972.000000</td>\n",
              "      <td id=\"T_fd5b2_row0_col7\" class=\"data row0 col7\" >125972.000000</td>\n",
              "      <td id=\"T_fd5b2_row0_col8\" class=\"data row0 col8\" >125972.000000</td>\n",
              "      <td id=\"T_fd5b2_row0_col9\" class=\"data row0 col9\" >125972.000000</td>\n",
              "      <td id=\"T_fd5b2_row0_col10\" class=\"data row0 col10\" >125972.000000</td>\n",
              "      <td id=\"T_fd5b2_row0_col11\" class=\"data row0 col11\" >125972.000000</td>\n",
              "      <td id=\"T_fd5b2_row0_col12\" class=\"data row0 col12\" >125972.000000</td>\n",
              "      <td id=\"T_fd5b2_row0_col13\" class=\"data row0 col13\" >125972.000000</td>\n",
              "      <td id=\"T_fd5b2_row0_col14\" class=\"data row0 col14\" >125972.000000</td>\n",
              "      <td id=\"T_fd5b2_row0_col15\" class=\"data row0 col15\" >125972.000000</td>\n",
              "      <td id=\"T_fd5b2_row0_col16\" class=\"data row0 col16\" >125972.000000</td>\n",
              "      <td id=\"T_fd5b2_row0_col17\" class=\"data row0 col17\" >125972.000000</td>\n",
              "      <td id=\"T_fd5b2_row0_col18\" class=\"data row0 col18\" >125972.000000</td>\n",
              "      <td id=\"T_fd5b2_row0_col19\" class=\"data row0 col19\" >125972.000000</td>\n",
              "      <td id=\"T_fd5b2_row0_col20\" class=\"data row0 col20\" >125972.000000</td>\n",
              "      <td id=\"T_fd5b2_row0_col21\" class=\"data row0 col21\" >125972.000000</td>\n",
              "      <td id=\"T_fd5b2_row0_col22\" class=\"data row0 col22\" >125972.000000</td>\n",
              "      <td id=\"T_fd5b2_row0_col23\" class=\"data row0 col23\" >125972.000000</td>\n",
              "      <td id=\"T_fd5b2_row0_col24\" class=\"data row0 col24\" >125972.000000</td>\n",
              "      <td id=\"T_fd5b2_row0_col25\" class=\"data row0 col25\" >125972.000000</td>\n",
              "      <td id=\"T_fd5b2_row0_col26\" class=\"data row0 col26\" >125972.000000</td>\n",
              "      <td id=\"T_fd5b2_row0_col27\" class=\"data row0 col27\" >125972.000000</td>\n",
              "      <td id=\"T_fd5b2_row0_col28\" class=\"data row0 col28\" >125972.000000</td>\n",
              "      <td id=\"T_fd5b2_row0_col29\" class=\"data row0 col29\" >125972.000000</td>\n",
              "      <td id=\"T_fd5b2_row0_col30\" class=\"data row0 col30\" >125972.000000</td>\n",
              "      <td id=\"T_fd5b2_row0_col31\" class=\"data row0 col31\" >125972.000000</td>\n",
              "      <td id=\"T_fd5b2_row0_col32\" class=\"data row0 col32\" >125972.000000</td>\n",
              "      <td id=\"T_fd5b2_row0_col33\" class=\"data row0 col33\" >125972.000000</td>\n",
              "      <td id=\"T_fd5b2_row0_col34\" class=\"data row0 col34\" >125972.000000</td>\n",
              "      <td id=\"T_fd5b2_row0_col35\" class=\"data row0 col35\" >125972.000000</td>\n",
              "      <td id=\"T_fd5b2_row0_col36\" class=\"data row0 col36\" >125972.000000</td>\n",
              "      <td id=\"T_fd5b2_row0_col37\" class=\"data row0 col37\" >125972.000000</td>\n",
              "      <td id=\"T_fd5b2_row0_col38\" class=\"data row0 col38\" >125972.000000</td>\n",
              "    </tr>\n",
              "    <tr>\n",
              "      <th id=\"T_fd5b2_level0_row1\" class=\"row_heading level0 row1\" >mean</th>\n",
              "      <td id=\"T_fd5b2_row1_col0\" class=\"data row1 col0\" >287.146929</td>\n",
              "      <td id=\"T_fd5b2_row1_col1\" class=\"data row1 col1\" >45567.100824</td>\n",
              "      <td id=\"T_fd5b2_row1_col2\" class=\"data row1 col2\" >19779.271433</td>\n",
              "      <td id=\"T_fd5b2_row1_col3\" class=\"data row1 col3\" >0.000198</td>\n",
              "      <td id=\"T_fd5b2_row1_col4\" class=\"data row1 col4\" >0.022688</td>\n",
              "      <td id=\"T_fd5b2_row1_col5\" class=\"data row1 col5\" >0.000111</td>\n",
              "      <td id=\"T_fd5b2_row1_col6\" class=\"data row1 col6\" >0.204411</td>\n",
              "      <td id=\"T_fd5b2_row1_col7\" class=\"data row1 col7\" >0.001222</td>\n",
              "      <td id=\"T_fd5b2_row1_col8\" class=\"data row1 col8\" >0.395739</td>\n",
              "      <td id=\"T_fd5b2_row1_col9\" class=\"data row1 col9\" >0.279253</td>\n",
              "      <td id=\"T_fd5b2_row1_col10\" class=\"data row1 col10\" >0.001342</td>\n",
              "      <td id=\"T_fd5b2_row1_col11\" class=\"data row1 col11\" >0.001103</td>\n",
              "      <td id=\"T_fd5b2_row1_col12\" class=\"data row1 col12\" >0.302194</td>\n",
              "      <td id=\"T_fd5b2_row1_col13\" class=\"data row1 col13\" >0.012669</td>\n",
              "      <td id=\"T_fd5b2_row1_col14\" class=\"data row1 col14\" >0.000413</td>\n",
              "      <td id=\"T_fd5b2_row1_col15\" class=\"data row1 col15\" >0.004096</td>\n",
              "      <td id=\"T_fd5b2_row1_col16\" class=\"data row1 col16\" >0.000000</td>\n",
              "      <td id=\"T_fd5b2_row1_col17\" class=\"data row1 col17\" >0.000008</td>\n",
              "      <td id=\"T_fd5b2_row1_col18\" class=\"data row1 col18\" >0.009423</td>\n",
              "      <td id=\"T_fd5b2_row1_col19\" class=\"data row1 col19\" >84.108207</td>\n",
              "      <td id=\"T_fd5b2_row1_col20\" class=\"data row1 col20\" >27.738093</td>\n",
              "      <td id=\"T_fd5b2_row1_col21\" class=\"data row1 col21\" >0.284487</td>\n",
              "      <td id=\"T_fd5b2_row1_col22\" class=\"data row1 col22\" >0.282488</td>\n",
              "      <td id=\"T_fd5b2_row1_col23\" class=\"data row1 col23\" >0.119959</td>\n",
              "      <td id=\"T_fd5b2_row1_col24\" class=\"data row1 col24\" >0.121184</td>\n",
              "      <td id=\"T_fd5b2_row1_col25\" class=\"data row1 col25\" >0.660925</td>\n",
              "      <td id=\"T_fd5b2_row1_col26\" class=\"data row1 col26\" >0.063053</td>\n",
              "      <td id=\"T_fd5b2_row1_col27\" class=\"data row1 col27\" >0.097322</td>\n",
              "      <td id=\"T_fd5b2_row1_col28\" class=\"data row1 col28\" >182.149200</td>\n",
              "      <td id=\"T_fd5b2_row1_col29\" class=\"data row1 col29\" >115.653725</td>\n",
              "      <td id=\"T_fd5b2_row1_col30\" class=\"data row1 col30\" >0.521244</td>\n",
              "      <td id=\"T_fd5b2_row1_col31\" class=\"data row1 col31\" >0.082952</td>\n",
              "      <td id=\"T_fd5b2_row1_col32\" class=\"data row1 col32\" >0.148379</td>\n",
              "      <td id=\"T_fd5b2_row1_col33\" class=\"data row1 col33\" >0.032543</td>\n",
              "      <td id=\"T_fd5b2_row1_col34\" class=\"data row1 col34\" >0.284455</td>\n",
              "      <td id=\"T_fd5b2_row1_col35\" class=\"data row1 col35\" >0.278487</td>\n",
              "      <td id=\"T_fd5b2_row1_col36\" class=\"data row1 col36\" >0.118832</td>\n",
              "      <td id=\"T_fd5b2_row1_col37\" class=\"data row1 col37\" >0.120241</td>\n",
              "      <td id=\"T_fd5b2_row1_col38\" class=\"data row1 col38\" >19.504056</td>\n",
              "    </tr>\n",
              "    <tr>\n",
              "      <th id=\"T_fd5b2_level0_row2\" class=\"row_heading level0 row2\" >std</th>\n",
              "      <td id=\"T_fd5b2_row2_col0\" class=\"data row2 col0\" >2604.525522</td>\n",
              "      <td id=\"T_fd5b2_row2_col1\" class=\"data row2 col1\" >5870354.480801</td>\n",
              "      <td id=\"T_fd5b2_row2_col2\" class=\"data row2 col2\" >4021285.112114</td>\n",
              "      <td id=\"T_fd5b2_row2_col3\" class=\"data row2 col3\" >0.014086</td>\n",
              "      <td id=\"T_fd5b2_row2_col4\" class=\"data row2 col4\" >0.253531</td>\n",
              "      <td id=\"T_fd5b2_row2_col5\" class=\"data row2 col5\" >0.014366</td>\n",
              "      <td id=\"T_fd5b2_row2_col6\" class=\"data row2 col6\" >2.149977</td>\n",
              "      <td id=\"T_fd5b2_row2_col7\" class=\"data row2 col7\" >0.045239</td>\n",
              "      <td id=\"T_fd5b2_row2_col8\" class=\"data row2 col8\" >0.489011</td>\n",
              "      <td id=\"T_fd5b2_row2_col9\" class=\"data row2 col9\" >23.942137</td>\n",
              "      <td id=\"T_fd5b2_row2_col10\" class=\"data row2 col10\" >0.036603</td>\n",
              "      <td id=\"T_fd5b2_row2_col11\" class=\"data row2 col11\" >0.045155</td>\n",
              "      <td id=\"T_fd5b2_row2_col12\" class=\"data row2 col12\" >24.399715</td>\n",
              "      <td id=\"T_fd5b2_row2_col13\" class=\"data row2 col13\" >0.483937</td>\n",
              "      <td id=\"T_fd5b2_row2_col14\" class=\"data row2 col14\" >0.022181</td>\n",
              "      <td id=\"T_fd5b2_row2_col15\" class=\"data row2 col15\" >0.099370</td>\n",
              "      <td id=\"T_fd5b2_row2_col16\" class=\"data row2 col16\" >0.000000</td>\n",
              "      <td id=\"T_fd5b2_row2_col17\" class=\"data row2 col17\" >0.002817</td>\n",
              "      <td id=\"T_fd5b2_row2_col18\" class=\"data row2 col18\" >0.096613</td>\n",
              "      <td id=\"T_fd5b2_row2_col19\" class=\"data row2 col19\" >114.508828</td>\n",
              "      <td id=\"T_fd5b2_row2_col20\" class=\"data row2 col20\" >72.636092</td>\n",
              "      <td id=\"T_fd5b2_row2_col21\" class=\"data row2 col21\" >0.446457</td>\n",
              "      <td id=\"T_fd5b2_row2_col22\" class=\"data row2 col22\" >0.447024</td>\n",
              "      <td id=\"T_fd5b2_row2_col23\" class=\"data row2 col23\" >0.320437</td>\n",
              "      <td id=\"T_fd5b2_row2_col24\" class=\"data row2 col24\" >0.323648</td>\n",
              "      <td id=\"T_fd5b2_row2_col25\" class=\"data row2 col25\" >0.439624</td>\n",
              "      <td id=\"T_fd5b2_row2_col26\" class=\"data row2 col26\" >0.180315</td>\n",
              "      <td id=\"T_fd5b2_row2_col27\" class=\"data row2 col27\" >0.259831</td>\n",
              "      <td id=\"T_fd5b2_row2_col28\" class=\"data row2 col28\" >99.206565</td>\n",
              "      <td id=\"T_fd5b2_row2_col29\" class=\"data row2 col29\" >110.702886</td>\n",
              "      <td id=\"T_fd5b2_row2_col30\" class=\"data row2 col30\" >0.448950</td>\n",
              "      <td id=\"T_fd5b2_row2_col31\" class=\"data row2 col31\" >0.188922</td>\n",
              "      <td id=\"T_fd5b2_row2_col32\" class=\"data row2 col32\" >0.308998</td>\n",
              "      <td id=\"T_fd5b2_row2_col33\" class=\"data row2 col33\" >0.112564</td>\n",
              "      <td id=\"T_fd5b2_row2_col34\" class=\"data row2 col34\" >0.444785</td>\n",
              "      <td id=\"T_fd5b2_row2_col35\" class=\"data row2 col35\" >0.445670</td>\n",
              "      <td id=\"T_fd5b2_row2_col36\" class=\"data row2 col36\" >0.306559</td>\n",
              "      <td id=\"T_fd5b2_row2_col37\" class=\"data row2 col37\" >0.319460</td>\n",
              "      <td id=\"T_fd5b2_row2_col38\" class=\"data row2 col38\" >2.291512</td>\n",
              "    </tr>\n",
              "    <tr>\n",
              "      <th id=\"T_fd5b2_level0_row3\" class=\"row_heading level0 row3\" >min</th>\n",
              "      <td id=\"T_fd5b2_row3_col0\" class=\"data row3 col0\" >0.000000</td>\n",
              "      <td id=\"T_fd5b2_row3_col1\" class=\"data row3 col1\" >0.000000</td>\n",
              "      <td id=\"T_fd5b2_row3_col2\" class=\"data row3 col2\" >0.000000</td>\n",
              "      <td id=\"T_fd5b2_row3_col3\" class=\"data row3 col3\" >0.000000</td>\n",
              "      <td id=\"T_fd5b2_row3_col4\" class=\"data row3 col4\" >0.000000</td>\n",
              "      <td id=\"T_fd5b2_row3_col5\" class=\"data row3 col5\" >0.000000</td>\n",
              "      <td id=\"T_fd5b2_row3_col6\" class=\"data row3 col6\" >0.000000</td>\n",
              "      <td id=\"T_fd5b2_row3_col7\" class=\"data row3 col7\" >0.000000</td>\n",
              "      <td id=\"T_fd5b2_row3_col8\" class=\"data row3 col8\" >0.000000</td>\n",
              "      <td id=\"T_fd5b2_row3_col9\" class=\"data row3 col9\" >0.000000</td>\n",
              "      <td id=\"T_fd5b2_row3_col10\" class=\"data row3 col10\" >0.000000</td>\n",
              "      <td id=\"T_fd5b2_row3_col11\" class=\"data row3 col11\" >0.000000</td>\n",
              "      <td id=\"T_fd5b2_row3_col12\" class=\"data row3 col12\" >0.000000</td>\n",
              "      <td id=\"T_fd5b2_row3_col13\" class=\"data row3 col13\" >0.000000</td>\n",
              "      <td id=\"T_fd5b2_row3_col14\" class=\"data row3 col14\" >0.000000</td>\n",
              "      <td id=\"T_fd5b2_row3_col15\" class=\"data row3 col15\" >0.000000</td>\n",
              "      <td id=\"T_fd5b2_row3_col16\" class=\"data row3 col16\" >0.000000</td>\n",
              "      <td id=\"T_fd5b2_row3_col17\" class=\"data row3 col17\" >0.000000</td>\n",
              "      <td id=\"T_fd5b2_row3_col18\" class=\"data row3 col18\" >0.000000</td>\n",
              "      <td id=\"T_fd5b2_row3_col19\" class=\"data row3 col19\" >0.000000</td>\n",
              "      <td id=\"T_fd5b2_row3_col20\" class=\"data row3 col20\" >0.000000</td>\n",
              "      <td id=\"T_fd5b2_row3_col21\" class=\"data row3 col21\" >0.000000</td>\n",
              "      <td id=\"T_fd5b2_row3_col22\" class=\"data row3 col22\" >0.000000</td>\n",
              "      <td id=\"T_fd5b2_row3_col23\" class=\"data row3 col23\" >0.000000</td>\n",
              "      <td id=\"T_fd5b2_row3_col24\" class=\"data row3 col24\" >0.000000</td>\n",
              "      <td id=\"T_fd5b2_row3_col25\" class=\"data row3 col25\" >0.000000</td>\n",
              "      <td id=\"T_fd5b2_row3_col26\" class=\"data row3 col26\" >0.000000</td>\n",
              "      <td id=\"T_fd5b2_row3_col27\" class=\"data row3 col27\" >0.000000</td>\n",
              "      <td id=\"T_fd5b2_row3_col28\" class=\"data row3 col28\" >0.000000</td>\n",
              "      <td id=\"T_fd5b2_row3_col29\" class=\"data row3 col29\" >0.000000</td>\n",
              "      <td id=\"T_fd5b2_row3_col30\" class=\"data row3 col30\" >0.000000</td>\n",
              "      <td id=\"T_fd5b2_row3_col31\" class=\"data row3 col31\" >0.000000</td>\n",
              "      <td id=\"T_fd5b2_row3_col32\" class=\"data row3 col32\" >0.000000</td>\n",
              "      <td id=\"T_fd5b2_row3_col33\" class=\"data row3 col33\" >0.000000</td>\n",
              "      <td id=\"T_fd5b2_row3_col34\" class=\"data row3 col34\" >0.000000</td>\n",
              "      <td id=\"T_fd5b2_row3_col35\" class=\"data row3 col35\" >0.000000</td>\n",
              "      <td id=\"T_fd5b2_row3_col36\" class=\"data row3 col36\" >0.000000</td>\n",
              "      <td id=\"T_fd5b2_row3_col37\" class=\"data row3 col37\" >0.000000</td>\n",
              "      <td id=\"T_fd5b2_row3_col38\" class=\"data row3 col38\" >0.000000</td>\n",
              "    </tr>\n",
              "    <tr>\n",
              "      <th id=\"T_fd5b2_level0_row4\" class=\"row_heading level0 row4\" >25%</th>\n",
              "      <td id=\"T_fd5b2_row4_col0\" class=\"data row4 col0\" >0.000000</td>\n",
              "      <td id=\"T_fd5b2_row4_col1\" class=\"data row4 col1\" >0.000000</td>\n",
              "      <td id=\"T_fd5b2_row4_col2\" class=\"data row4 col2\" >0.000000</td>\n",
              "      <td id=\"T_fd5b2_row4_col3\" class=\"data row4 col3\" >0.000000</td>\n",
              "      <td id=\"T_fd5b2_row4_col4\" class=\"data row4 col4\" >0.000000</td>\n",
              "      <td id=\"T_fd5b2_row4_col5\" class=\"data row4 col5\" >0.000000</td>\n",
              "      <td id=\"T_fd5b2_row4_col6\" class=\"data row4 col6\" >0.000000</td>\n",
              "      <td id=\"T_fd5b2_row4_col7\" class=\"data row4 col7\" >0.000000</td>\n",
              "      <td id=\"T_fd5b2_row4_col8\" class=\"data row4 col8\" >0.000000</td>\n",
              "      <td id=\"T_fd5b2_row4_col9\" class=\"data row4 col9\" >0.000000</td>\n",
              "      <td id=\"T_fd5b2_row4_col10\" class=\"data row4 col10\" >0.000000</td>\n",
              "      <td id=\"T_fd5b2_row4_col11\" class=\"data row4 col11\" >0.000000</td>\n",
              "      <td id=\"T_fd5b2_row4_col12\" class=\"data row4 col12\" >0.000000</td>\n",
              "      <td id=\"T_fd5b2_row4_col13\" class=\"data row4 col13\" >0.000000</td>\n",
              "      <td id=\"T_fd5b2_row4_col14\" class=\"data row4 col14\" >0.000000</td>\n",
              "      <td id=\"T_fd5b2_row4_col15\" class=\"data row4 col15\" >0.000000</td>\n",
              "      <td id=\"T_fd5b2_row4_col16\" class=\"data row4 col16\" >0.000000</td>\n",
              "      <td id=\"T_fd5b2_row4_col17\" class=\"data row4 col17\" >0.000000</td>\n",
              "      <td id=\"T_fd5b2_row4_col18\" class=\"data row4 col18\" >0.000000</td>\n",
              "      <td id=\"T_fd5b2_row4_col19\" class=\"data row4 col19\" >2.000000</td>\n",
              "      <td id=\"T_fd5b2_row4_col20\" class=\"data row4 col20\" >2.000000</td>\n",
              "      <td id=\"T_fd5b2_row4_col21\" class=\"data row4 col21\" >0.000000</td>\n",
              "      <td id=\"T_fd5b2_row4_col22\" class=\"data row4 col22\" >0.000000</td>\n",
              "      <td id=\"T_fd5b2_row4_col23\" class=\"data row4 col23\" >0.000000</td>\n",
              "      <td id=\"T_fd5b2_row4_col24\" class=\"data row4 col24\" >0.000000</td>\n",
              "      <td id=\"T_fd5b2_row4_col25\" class=\"data row4 col25\" >0.090000</td>\n",
              "      <td id=\"T_fd5b2_row4_col26\" class=\"data row4 col26\" >0.000000</td>\n",
              "      <td id=\"T_fd5b2_row4_col27\" class=\"data row4 col27\" >0.000000</td>\n",
              "      <td id=\"T_fd5b2_row4_col28\" class=\"data row4 col28\" >82.000000</td>\n",
              "      <td id=\"T_fd5b2_row4_col29\" class=\"data row4 col29\" >10.000000</td>\n",
              "      <td id=\"T_fd5b2_row4_col30\" class=\"data row4 col30\" >0.050000</td>\n",
              "      <td id=\"T_fd5b2_row4_col31\" class=\"data row4 col31\" >0.000000</td>\n",
              "      <td id=\"T_fd5b2_row4_col32\" class=\"data row4 col32\" >0.000000</td>\n",
              "      <td id=\"T_fd5b2_row4_col33\" class=\"data row4 col33\" >0.000000</td>\n",
              "      <td id=\"T_fd5b2_row4_col34\" class=\"data row4 col34\" >0.000000</td>\n",
              "      <td id=\"T_fd5b2_row4_col35\" class=\"data row4 col35\" >0.000000</td>\n",
              "      <td id=\"T_fd5b2_row4_col36\" class=\"data row4 col36\" >0.000000</td>\n",
              "      <td id=\"T_fd5b2_row4_col37\" class=\"data row4 col37\" >0.000000</td>\n",
              "      <td id=\"T_fd5b2_row4_col38\" class=\"data row4 col38\" >18.000000</td>\n",
              "    </tr>\n",
              "    <tr>\n",
              "      <th id=\"T_fd5b2_level0_row5\" class=\"row_heading level0 row5\" >50%</th>\n",
              "      <td id=\"T_fd5b2_row5_col0\" class=\"data row5 col0\" >0.000000</td>\n",
              "      <td id=\"T_fd5b2_row5_col1\" class=\"data row5 col1\" >44.000000</td>\n",
              "      <td id=\"T_fd5b2_row5_col2\" class=\"data row5 col2\" >0.000000</td>\n",
              "      <td id=\"T_fd5b2_row5_col3\" class=\"data row5 col3\" >0.000000</td>\n",
              "      <td id=\"T_fd5b2_row5_col4\" class=\"data row5 col4\" >0.000000</td>\n",
              "      <td id=\"T_fd5b2_row5_col5\" class=\"data row5 col5\" >0.000000</td>\n",
              "      <td id=\"T_fd5b2_row5_col6\" class=\"data row5 col6\" >0.000000</td>\n",
              "      <td id=\"T_fd5b2_row5_col7\" class=\"data row5 col7\" >0.000000</td>\n",
              "      <td id=\"T_fd5b2_row5_col8\" class=\"data row5 col8\" >0.000000</td>\n",
              "      <td id=\"T_fd5b2_row5_col9\" class=\"data row5 col9\" >0.000000</td>\n",
              "      <td id=\"T_fd5b2_row5_col10\" class=\"data row5 col10\" >0.000000</td>\n",
              "      <td id=\"T_fd5b2_row5_col11\" class=\"data row5 col11\" >0.000000</td>\n",
              "      <td id=\"T_fd5b2_row5_col12\" class=\"data row5 col12\" >0.000000</td>\n",
              "      <td id=\"T_fd5b2_row5_col13\" class=\"data row5 col13\" >0.000000</td>\n",
              "      <td id=\"T_fd5b2_row5_col14\" class=\"data row5 col14\" >0.000000</td>\n",
              "      <td id=\"T_fd5b2_row5_col15\" class=\"data row5 col15\" >0.000000</td>\n",
              "      <td id=\"T_fd5b2_row5_col16\" class=\"data row5 col16\" >0.000000</td>\n",
              "      <td id=\"T_fd5b2_row5_col17\" class=\"data row5 col17\" >0.000000</td>\n",
              "      <td id=\"T_fd5b2_row5_col18\" class=\"data row5 col18\" >0.000000</td>\n",
              "      <td id=\"T_fd5b2_row5_col19\" class=\"data row5 col19\" >14.000000</td>\n",
              "      <td id=\"T_fd5b2_row5_col20\" class=\"data row5 col20\" >8.000000</td>\n",
              "      <td id=\"T_fd5b2_row5_col21\" class=\"data row5 col21\" >0.000000</td>\n",
              "      <td id=\"T_fd5b2_row5_col22\" class=\"data row5 col22\" >0.000000</td>\n",
              "      <td id=\"T_fd5b2_row5_col23\" class=\"data row5 col23\" >0.000000</td>\n",
              "      <td id=\"T_fd5b2_row5_col24\" class=\"data row5 col24\" >0.000000</td>\n",
              "      <td id=\"T_fd5b2_row5_col25\" class=\"data row5 col25\" >1.000000</td>\n",
              "      <td id=\"T_fd5b2_row5_col26\" class=\"data row5 col26\" >0.000000</td>\n",
              "      <td id=\"T_fd5b2_row5_col27\" class=\"data row5 col27\" >0.000000</td>\n",
              "      <td id=\"T_fd5b2_row5_col28\" class=\"data row5 col28\" >255.000000</td>\n",
              "      <td id=\"T_fd5b2_row5_col29\" class=\"data row5 col29\" >63.000000</td>\n",
              "      <td id=\"T_fd5b2_row5_col30\" class=\"data row5 col30\" >0.510000</td>\n",
              "      <td id=\"T_fd5b2_row5_col31\" class=\"data row5 col31\" >0.020000</td>\n",
              "      <td id=\"T_fd5b2_row5_col32\" class=\"data row5 col32\" >0.000000</td>\n",
              "      <td id=\"T_fd5b2_row5_col33\" class=\"data row5 col33\" >0.000000</td>\n",
              "      <td id=\"T_fd5b2_row5_col34\" class=\"data row5 col34\" >0.000000</td>\n",
              "      <td id=\"T_fd5b2_row5_col35\" class=\"data row5 col35\" >0.000000</td>\n",
              "      <td id=\"T_fd5b2_row5_col36\" class=\"data row5 col36\" >0.000000</td>\n",
              "      <td id=\"T_fd5b2_row5_col37\" class=\"data row5 col37\" >0.000000</td>\n",
              "      <td id=\"T_fd5b2_row5_col38\" class=\"data row5 col38\" >20.000000</td>\n",
              "    </tr>\n",
              "    <tr>\n",
              "      <th id=\"T_fd5b2_level0_row6\" class=\"row_heading level0 row6\" >75%</th>\n",
              "      <td id=\"T_fd5b2_row6_col0\" class=\"data row6 col0\" >0.000000</td>\n",
              "      <td id=\"T_fd5b2_row6_col1\" class=\"data row6 col1\" >276.000000</td>\n",
              "      <td id=\"T_fd5b2_row6_col2\" class=\"data row6 col2\" >516.000000</td>\n",
              "      <td id=\"T_fd5b2_row6_col3\" class=\"data row6 col3\" >0.000000</td>\n",
              "      <td id=\"T_fd5b2_row6_col4\" class=\"data row6 col4\" >0.000000</td>\n",
              "      <td id=\"T_fd5b2_row6_col5\" class=\"data row6 col5\" >0.000000</td>\n",
              "      <td id=\"T_fd5b2_row6_col6\" class=\"data row6 col6\" >0.000000</td>\n",
              "      <td id=\"T_fd5b2_row6_col7\" class=\"data row6 col7\" >0.000000</td>\n",
              "      <td id=\"T_fd5b2_row6_col8\" class=\"data row6 col8\" >1.000000</td>\n",
              "      <td id=\"T_fd5b2_row6_col9\" class=\"data row6 col9\" >0.000000</td>\n",
              "      <td id=\"T_fd5b2_row6_col10\" class=\"data row6 col10\" >0.000000</td>\n",
              "      <td id=\"T_fd5b2_row6_col11\" class=\"data row6 col11\" >0.000000</td>\n",
              "      <td id=\"T_fd5b2_row6_col12\" class=\"data row6 col12\" >0.000000</td>\n",
              "      <td id=\"T_fd5b2_row6_col13\" class=\"data row6 col13\" >0.000000</td>\n",
              "      <td id=\"T_fd5b2_row6_col14\" class=\"data row6 col14\" >0.000000</td>\n",
              "      <td id=\"T_fd5b2_row6_col15\" class=\"data row6 col15\" >0.000000</td>\n",
              "      <td id=\"T_fd5b2_row6_col16\" class=\"data row6 col16\" >0.000000</td>\n",
              "      <td id=\"T_fd5b2_row6_col17\" class=\"data row6 col17\" >0.000000</td>\n",
              "      <td id=\"T_fd5b2_row6_col18\" class=\"data row6 col18\" >0.000000</td>\n",
              "      <td id=\"T_fd5b2_row6_col19\" class=\"data row6 col19\" >143.000000</td>\n",
              "      <td id=\"T_fd5b2_row6_col20\" class=\"data row6 col20\" >18.000000</td>\n",
              "      <td id=\"T_fd5b2_row6_col21\" class=\"data row6 col21\" >1.000000</td>\n",
              "      <td id=\"T_fd5b2_row6_col22\" class=\"data row6 col22\" >1.000000</td>\n",
              "      <td id=\"T_fd5b2_row6_col23\" class=\"data row6 col23\" >0.000000</td>\n",
              "      <td id=\"T_fd5b2_row6_col24\" class=\"data row6 col24\" >0.000000</td>\n",
              "      <td id=\"T_fd5b2_row6_col25\" class=\"data row6 col25\" >1.000000</td>\n",
              "      <td id=\"T_fd5b2_row6_col26\" class=\"data row6 col26\" >0.060000</td>\n",
              "      <td id=\"T_fd5b2_row6_col27\" class=\"data row6 col27\" >0.000000</td>\n",
              "      <td id=\"T_fd5b2_row6_col28\" class=\"data row6 col28\" >255.000000</td>\n",
              "      <td id=\"T_fd5b2_row6_col29\" class=\"data row6 col29\" >255.000000</td>\n",
              "      <td id=\"T_fd5b2_row6_col30\" class=\"data row6 col30\" >1.000000</td>\n",
              "      <td id=\"T_fd5b2_row6_col31\" class=\"data row6 col31\" >0.070000</td>\n",
              "      <td id=\"T_fd5b2_row6_col32\" class=\"data row6 col32\" >0.060000</td>\n",
              "      <td id=\"T_fd5b2_row6_col33\" class=\"data row6 col33\" >0.020000</td>\n",
              "      <td id=\"T_fd5b2_row6_col34\" class=\"data row6 col34\" >1.000000</td>\n",
              "      <td id=\"T_fd5b2_row6_col35\" class=\"data row6 col35\" >1.000000</td>\n",
              "      <td id=\"T_fd5b2_row6_col36\" class=\"data row6 col36\" >0.000000</td>\n",
              "      <td id=\"T_fd5b2_row6_col37\" class=\"data row6 col37\" >0.000000</td>\n",
              "      <td id=\"T_fd5b2_row6_col38\" class=\"data row6 col38\" >21.000000</td>\n",
              "    </tr>\n",
              "    <tr>\n",
              "      <th id=\"T_fd5b2_level0_row7\" class=\"row_heading level0 row7\" >max</th>\n",
              "      <td id=\"T_fd5b2_row7_col0\" class=\"data row7 col0\" >42908.000000</td>\n",
              "      <td id=\"T_fd5b2_row7_col1\" class=\"data row7 col1\" >1379963888.000000</td>\n",
              "      <td id=\"T_fd5b2_row7_col2\" class=\"data row7 col2\" >1309937401.000000</td>\n",
              "      <td id=\"T_fd5b2_row7_col3\" class=\"data row7 col3\" >1.000000</td>\n",
              "      <td id=\"T_fd5b2_row7_col4\" class=\"data row7 col4\" >3.000000</td>\n",
              "      <td id=\"T_fd5b2_row7_col5\" class=\"data row7 col5\" >3.000000</td>\n",
              "      <td id=\"T_fd5b2_row7_col6\" class=\"data row7 col6\" >77.000000</td>\n",
              "      <td id=\"T_fd5b2_row7_col7\" class=\"data row7 col7\" >5.000000</td>\n",
              "      <td id=\"T_fd5b2_row7_col8\" class=\"data row7 col8\" >1.000000</td>\n",
              "      <td id=\"T_fd5b2_row7_col9\" class=\"data row7 col9\" >7479.000000</td>\n",
              "      <td id=\"T_fd5b2_row7_col10\" class=\"data row7 col10\" >1.000000</td>\n",
              "      <td id=\"T_fd5b2_row7_col11\" class=\"data row7 col11\" >2.000000</td>\n",
              "      <td id=\"T_fd5b2_row7_col12\" class=\"data row7 col12\" >7468.000000</td>\n",
              "      <td id=\"T_fd5b2_row7_col13\" class=\"data row7 col13\" >43.000000</td>\n",
              "      <td id=\"T_fd5b2_row7_col14\" class=\"data row7 col14\" >2.000000</td>\n",
              "      <td id=\"T_fd5b2_row7_col15\" class=\"data row7 col15\" >9.000000</td>\n",
              "      <td id=\"T_fd5b2_row7_col16\" class=\"data row7 col16\" >0.000000</td>\n",
              "      <td id=\"T_fd5b2_row7_col17\" class=\"data row7 col17\" >1.000000</td>\n",
              "      <td id=\"T_fd5b2_row7_col18\" class=\"data row7 col18\" >1.000000</td>\n",
              "      <td id=\"T_fd5b2_row7_col19\" class=\"data row7 col19\" >511.000000</td>\n",
              "      <td id=\"T_fd5b2_row7_col20\" class=\"data row7 col20\" >511.000000</td>\n",
              "      <td id=\"T_fd5b2_row7_col21\" class=\"data row7 col21\" >1.000000</td>\n",
              "      <td id=\"T_fd5b2_row7_col22\" class=\"data row7 col22\" >1.000000</td>\n",
              "      <td id=\"T_fd5b2_row7_col23\" class=\"data row7 col23\" >1.000000</td>\n",
              "      <td id=\"T_fd5b2_row7_col24\" class=\"data row7 col24\" >1.000000</td>\n",
              "      <td id=\"T_fd5b2_row7_col25\" class=\"data row7 col25\" >1.000000</td>\n",
              "      <td id=\"T_fd5b2_row7_col26\" class=\"data row7 col26\" >1.000000</td>\n",
              "      <td id=\"T_fd5b2_row7_col27\" class=\"data row7 col27\" >1.000000</td>\n",
              "      <td id=\"T_fd5b2_row7_col28\" class=\"data row7 col28\" >255.000000</td>\n",
              "      <td id=\"T_fd5b2_row7_col29\" class=\"data row7 col29\" >255.000000</td>\n",
              "      <td id=\"T_fd5b2_row7_col30\" class=\"data row7 col30\" >1.000000</td>\n",
              "      <td id=\"T_fd5b2_row7_col31\" class=\"data row7 col31\" >1.000000</td>\n",
              "      <td id=\"T_fd5b2_row7_col32\" class=\"data row7 col32\" >1.000000</td>\n",
              "      <td id=\"T_fd5b2_row7_col33\" class=\"data row7 col33\" >1.000000</td>\n",
              "      <td id=\"T_fd5b2_row7_col34\" class=\"data row7 col34\" >1.000000</td>\n",
              "      <td id=\"T_fd5b2_row7_col35\" class=\"data row7 col35\" >1.000000</td>\n",
              "      <td id=\"T_fd5b2_row7_col36\" class=\"data row7 col36\" >1.000000</td>\n",
              "      <td id=\"T_fd5b2_row7_col37\" class=\"data row7 col37\" >1.000000</td>\n",
              "      <td id=\"T_fd5b2_row7_col38\" class=\"data row7 col38\" >21.000000</td>\n",
              "    </tr>\n",
              "  </tbody>\n",
              "</table>\n"
            ]
          },
          "metadata": {},
          "execution_count": 5
        }
      ],
      "source": [
        "data_train.describe().style.background_gradient(cmap='Blues').set_properties(**{'font-family':'Segoe UI'})"
      ]
    },
    {
      "cell_type": "code",
      "source": [
        "data_train['label'] = data_train['label'].astype(str)"
      ],
      "metadata": {
        "id": "4qCsHUEGkcXQ"
      },
      "execution_count": null,
      "outputs": []
    },
    {
      "cell_type": "code",
      "execution_count": null,
      "metadata": {
        "execution": {
          "iopub.execute_input": "2022-09-16T14:45:40.005626Z",
          "iopub.status.busy": "2022-09-16T14:45:40.005097Z",
          "iopub.status.idle": "2022-09-16T14:45:40.043081Z",
          "shell.execute_reply": "2022-09-16T14:45:40.042044Z"
        },
        "papermill": {
          "duration": 0.056305,
          "end_time": "2022-09-16T14:45:40.046327",
          "exception": false,
          "start_time": "2022-09-16T14:45:39.990022",
          "status": "completed"
        },
        "tags": [],
        "id": "54517845"
      },
      "outputs": [],
      "source": [
        "data_train.loc[data_train['label'] == \"normal\", \"label\"] = 'normal'\n",
        "data_train.loc[data_train['label'] != 'normal', \"label\"] = 'attack'"
      ]
    },
    {
      "cell_type": "code",
      "execution_count": null,
      "metadata": {
        "execution": {
          "iopub.execute_input": "2022-09-16T14:45:40.078686Z",
          "iopub.status.busy": "2022-09-16T14:45:40.077509Z",
          "iopub.status.idle": "2022-09-16T14:45:40.084999Z",
          "shell.execute_reply": "2022-09-16T14:45:40.083786Z"
        },
        "papermill": {
          "duration": 0.02702,
          "end_time": "2022-09-16T14:45:40.087698",
          "exception": false,
          "start_time": "2022-09-16T14:45:40.060678",
          "status": "completed"
        },
        "tags": [],
        "id": "7f3d5e5f"
      },
      "outputs": [],
      "source": [
        "def pie_plot(df, cols_list, rows, cols):\n",
        "    fig, axes = plt.subplots(rows, cols)\n",
        "    for ax, col in zip(axes.ravel(), cols_list):\n",
        "        df[col].value_counts().plot(ax=ax, kind='pie', figsize=(15, 15), fontsize=10, autopct='%1.0f%%')\n",
        "        ax.set_title(str(col), fontsize = 12)\n",
        "    plt.show()"
      ]
    },
    {
      "cell_type": "code",
      "execution_count": null,
      "metadata": {
        "execution": {
          "iopub.execute_input": "2022-09-16T14:45:40.117111Z",
          "iopub.status.busy": "2022-09-16T14:45:40.115688Z",
          "iopub.status.idle": "2022-09-16T14:45:40.400211Z",
          "shell.execute_reply": "2022-09-16T14:45:40.398361Z"
        },
        "papermill": {
          "duration": 0.303705,
          "end_time": "2022-09-16T14:45:40.404727",
          "exception": false,
          "start_time": "2022-09-16T14:45:40.101022",
          "status": "completed"
        },
        "tags": [],
        "id": "21de1afb",
        "outputId": "fa2b11fb-d62b-4c2b-fa4f-eacc8d3ccc80",
        "colab": {
          "base_uri": "https://localhost:8080/",
          "height": 587
        }
      },
      "outputs": [
        {
          "output_type": "display_data",
          "data": {
            "text/plain": [
              "<Figure size 1500x1500 with 2 Axes>"
            ],
            "image/png": "[encoded data removed]"
          },
          "metadata": {}
        }
      ],
      "source": [
        "pie_plot(data_train, ['protocol_type', 'label'], 1, 2)"
      ]
    },
    {
      "cell_type": "markdown",
      "metadata": {
        "papermill": {
          "duration": 0.013595,
          "end_time": "2022-09-16T14:45:40.454415",
          "exception": false,
          "start_time": "2022-09-16T14:45:40.440820",
          "status": "completed"
        },
        "tags": [],
        "id": "95c98b7b"
      },
      "source": [
        "## Предобработка данных"
      ]
    },
    {
      "cell_type": "code",
      "execution_count": null,
      "metadata": {
        "execution": {
          "iopub.execute_input": "2022-09-16T14:45:40.485521Z",
          "iopub.status.busy": "2022-09-16T14:45:40.484714Z",
          "iopub.status.idle": "2022-09-16T14:45:40.490093Z",
          "shell.execute_reply": "2022-09-16T14:45:40.489091Z"
        },
        "papermill": {
          "duration": 0.023467,
          "end_time": "2022-09-16T14:45:40.492589",
          "exception": false,
          "start_time": "2022-09-16T14:45:40.469122",
          "status": "completed"
        },
        "tags": [],
        "id": "7437db6f"
      },
      "outputs": [],
      "source": [
        "def Scaling(df_num, cols):\n",
        "    std_scaler = RobustScaler()\n",
        "    std_scaler_temp = std_scaler.fit_transform(df_num)\n",
        "    std_df = pd.DataFrame(std_scaler_temp, columns =cols)\n",
        "    return std_df"
      ]
    },
    {
      "cell_type": "code",
      "execution_count": null,
      "metadata": {
        "execution": {
          "iopub.execute_input": "2022-09-16T14:45:40.522777Z",
          "iopub.status.busy": "2022-09-16T14:45:40.521883Z",
          "iopub.status.idle": "2022-09-16T14:45:40.529428Z",
          "shell.execute_reply": "2022-09-16T14:45:40.528500Z"
        },
        "papermill": {
          "duration": 0.025717,
          "end_time": "2022-09-16T14:45:40.532148",
          "exception": false,
          "start_time": "2022-09-16T14:45:40.506431",
          "status": "completed"
        },
        "tags": [],
        "id": "dc858a05"
      },
      "outputs": [],
      "source": [
        "cat_cols = ['is_host_login','protocol_type','service','flag','land', 'logged_in','is_guest_login', 'level', 'label']\n",
        "def preprocess(dataframe):\n",
        "    df_num = dataframe.drop(cat_cols, axis=1)\n",
        "    num_cols = df_num.columns\n",
        "    scaled_df = Scaling(df_num, num_cols)\n",
        "\n",
        "    dataframe.drop(labels=num_cols, axis=\"columns\", inplace=True)\n",
        "    dataframe[num_cols] = scaled_df[num_cols]\n",
        "\n",
        "    dataframe.loc[dataframe['label'] == \"normal\", \"label\"] = 0\n",
        "    dataframe.loc[dataframe['label'] != 0, \"label\"] = 1\n",
        "\n",
        "    dataframe = pd.get_dummies(dataframe, columns = ['protocol_type', 'service', 'flag'])\n",
        "    return dataframe"
      ]
    },
    {
      "cell_type": "code",
      "execution_count": null,
      "metadata": {
        "execution": {
          "iopub.execute_input": "2022-09-16T14:45:40.563656Z",
          "iopub.status.busy": "2022-09-16T14:45:40.562799Z",
          "iopub.status.idle": "2022-09-16T14:45:41.098094Z",
          "shell.execute_reply": "2022-09-16T14:45:41.096749Z"
        },
        "papermill": {
          "duration": 0.554801,
          "end_time": "2022-09-16T14:45:41.101276",
          "exception": false,
          "start_time": "2022-09-16T14:45:40.546475",
          "status": "completed"
        },
        "tags": [],
        "id": "5716ceba"
      },
      "outputs": [],
      "source": [
        "scaled_train = preprocess(data_train)"
      ]
    },
    {
      "cell_type": "markdown",
      "metadata": {
        "papermill": {
          "duration": 0.020881,
          "end_time": "2022-09-16T14:45:44.731415",
          "exception": false,
          "start_time": "2022-09-16T14:45:44.710534",
          "status": "completed"
        },
        "tags": [],
        "id": "89877e94"
      },
      "source": [
        "## Моделирование\n",
        "Процесс моделирования означает обучение алгоритма машинного обучения прогнозированию меток объектов, настройку его в соответствии с потребностями бизнеса и проверку его на несогласованных данных. Результатом моделирования является обученная модель, которую можно использовать для логического вывода, делая прогнозы по новым точкам данных.\n",
        "\n",
        "<img src=\"https://docs.microsoft.com/en-us/windows/ai/images/winml-model-flow.png\" width=\"600\"/>\n",
        "\n",
        "Модель машинного обучения сама по себе представляет собой файл, который был обучен распознавать определенные типы шаблонов. Вы обучаете модель на наборе данных, формируя ее на основе определенного алгоритма, и благодаря этому она приобретает некоторые веса или иные числовые значения, отражающие характеристики данных.\n",
        "После того, как вы обучили модель, вы можете использовать ее для анализа данных, которые она раньше не видела, и делать прогнозы на основе этих данных."
      ]
    },
    {
      "cell_type": "markdown",
      "source": [
        "## Метрики качества\n",
        "\n",
        "### Accuracy, Precision, Recall\n",
        "\n",
        "Эти метрики используются для оценки эффекивности классификационных моделей. Они помогают понять, насколько хорошо модель предсказывает правильные ответы на обрабатываемых объектах. Ответом модели в задаче классификации является класс (метка класса), к которой принадлежит некий объект, поданный на вход модели в виде числового вектора.\n",
        "\n",
        "#### 1. Accuracy (Точность)\n",
        "\n",
        "Accuracy — это самая интуитивно понятная метрика, измеряющая долю правильных предсказаний из всех предсказаний. Она не нацелена на какой-то конретный класс. Формула для accuracy:\n",
        "\n",
        "$$ \\text{Accuracy} = \\frac{\\text{True Positives} + \\text{True Negatives}}{\\text{Total Population}} $$\n",
        "\n",
        "где:\n",
        "- True Positives (TP) — количество правильно классифицированных положительных случаев,\n",
        "- True Negatives (TN) — количество правильно классифицированных отрицательных случаев,\n",
        "- Total Population — общее количество случаев.\n",
        "\n",
        "#### 2. Precision (Точность предсказания)\n",
        "\n",
        "Precision отражает, какая доля объектов, отнесенных к положительному классу, действительно относится к нему. Формула для precision:\n",
        "\n",
        "$$ \\text{Precision} = \\frac{\\text{True Positives}}{\\text{True Positives} + \\text{False Positives}} $$\n",
        "\n",
        "где False Positives (FP) — это количество неправильно классифицированных отрицательных случаев как положительные.\n",
        "\n",
        "#### 3. Recall (Полнота)\n",
        "\n",
        "Recall показывает, какая доля объектов положительного класса была обнаружена классификатором. Формула для recall:\n",
        "\n",
        "$$ \\text{Recall} = \\frac{\\text{True Positives}}{\\text{True Positives} + \\text{False Negatives}} $$\n",
        "\n",
        "где False Negatives (FN) — это количество положительных случаев, неправильно классифицированных как отрицательные.\n",
        "\n",
        "#### Матрица ошибок\n",
        "\n",
        "Матрица ошибок (Confusion Matrix) — это инструмент, используемый в машинном обучении для визуализации производительности алгоритма классификации. Матрица представляет собой таблицу, которая позволяет легко увидеть сравнение между фактическими и прогнозируемыми значениями. Это особенно полезно в задачах бинарной или многоклассовой классификации.\n",
        "\n",
        "Для бинарной классификации матрица ошибок обычно выглядит следующим образом:\n",
        "\n",
        "<img src=\"https://t1.daumcdn.net/thumb/R1280x0/?fname=http://t1.daumcdn.net/brunch/service/user/4SKt/image/VwzVj8EgnrXLgUcZcs_seAUWEQg.png\" width=\"600\"/>\n",
        "\n",
        "В скобках будет приведено пояснение на примере системы обнаружения вредоносных пакетов (условно IDS).\n",
        "\n",
        "* True Positive (TP): количество объектов, классифицированных как принадлежащие к классу 1, истинно принадлежащих классу 1 (верно найденные опасные пакеты).\n",
        "* True Negative (TN): количество объектов, классифицированных как 0, истинно принадлежащих классу 0  (верно пропущенные легитимные пакеты).\n",
        "* False Positive (FP): количество объектов, классифицированных как 1, но на самом деле принадлежащих классу 0 (легитимные пакеты, неверно названные опасными).\n",
        "* False Negative (FN): количество объектов, классифицированных как 0, но на самом деле принадлежащих классу 1 (пропущенные опасные пакеты).\n",
        "\n",
        "#### Важность\n",
        "\n",
        "- **Accuracy** полезна, когда классы сбалансированы, но может быть вводящей в заблуждение для несбалансированных классов.\n",
        "- **Precision** важна, когда стоимость False Positives высока (например, в ИБ).\n",
        "- **Recall** критична, когда стоимость False Negatives высока (например, в медицинской диагностике).\n",
        "\n",
        "Часто между precision и recall существует компромисс, и выбор метрики зависит от специфики задачи. Этот компромисс олицетворяет, например, метрика F1 Score.\n",
        "\n",
        "\n",
        "**На картинках ниже (желто-фиолетовых) функция evaluate_classification рисует именно матрицу ошибок.**\n"
      ],
      "metadata": {
        "id": "gMkaHip7buNb"
      }
    },
    {
      "cell_type": "code",
      "execution_count": null,
      "metadata": {
        "execution": {
          "iopub.execute_input": "2022-09-16T14:45:44.673054Z",
          "iopub.status.busy": "2022-09-16T14:45:44.672456Z",
          "iopub.status.idle": "2022-09-16T14:45:44.686272Z",
          "shell.execute_reply": "2022-09-16T14:45:44.684957Z"
        },
        "papermill": {
          "duration": 0.039335,
          "end_time": "2022-09-16T14:45:44.689396",
          "exception": false,
          "start_time": "2022-09-16T14:45:44.650061",
          "status": "completed"
        },
        "tags": [],
        "id": "e0f628e9"
      },
      "outputs": [],
      "source": [
        "def evaluate_classification(model, name, X_train, X_test, y_train, y_test):\n",
        "    train_accuracy = metrics.accuracy_score(y_train, model.predict(X_train))\n",
        "    test_accuracy = metrics.accuracy_score(y_test, model.predict(X_test))\n",
        "\n",
        "    train_precision = metrics.precision_score(y_train, model.predict(X_train))\n",
        "    test_precision = metrics.precision_score(y_test, model.predict(X_test))\n",
        "\n",
        "    train_recall = metrics.recall_score(y_train, model.predict(X_train))\n",
        "    test_recall = metrics.recall_score(y_test, model.predict(X_test))\n",
        "\n",
        "    kernal_evals = dict()\n",
        "    kernal_evals[str(name)] = [train_accuracy, test_accuracy, train_precision, test_precision, train_recall, test_recall]\n",
        "    print(f\"Точность обучения {name} {train_accuracy*100:.2f}  Точность теста {name} {test_accuracy*100:.2f}\")\n",
        "    print(f\"Точность предсказания {name} {train_precision*100:.2f}  Точность предсказания на тесте {name} {test_precision*100:.2f}\")\n",
        "    print(f\"Полнота обучения {name} {train_recall*100:.2f}  Полнота на тесте {name} {test_recall*100:.2f}\")\n",
        "\n",
        "\n",
        "    actual = y_test\n",
        "    predicted = model.predict(X_test)\n",
        "    confusion_matrix = metrics.confusion_matrix(actual, predicted)\n",
        "    cm_display = metrics.ConfusionMatrixDisplay(confusion_matrix = confusion_matrix, display_labels = ['normal', 'attack'])\n",
        "\n",
        "    fig, ax = plt.subplots(figsize=(10,10))\n",
        "    ax.grid(False)\n",
        "    cm_display.plot(ax=ax)"
      ]
    },
    {
      "cell_type": "markdown",
      "metadata": {
        "papermill": {
          "duration": 0.01567,
          "end_time": "2022-09-16T14:45:44.770501",
          "exception": false,
          "start_time": "2022-09-16T14:45:44.754831",
          "status": "completed"
        },
        "tags": [],
        "id": "d090b364"
      },
      "source": [
        "## Логистическая регрессия\n",
        "Логистическая регрессия, также известная как модель логит, часто используется в классификации и предиктивной аналитике. Этот тип статистической модели позволяет оценить вероятность наступления события, например, проголосовал ли человек или нет, на основе набора независимых переменных. Поскольку результатом является вероятность, зависимая переменная находится в пределах от 0 до 1. В логистической регрессии применяется логит-преобразование, то есть вероятность успеха делится на вероятность неудачи. Это также известно как логарифм шансов или натуральный логарифм шансов, и логистическая функция представлена следующей формулой:\n",
        "\n",
        "${\\displaystyle f(z)={\\frac {1}{1+e^{-z}}}.}$\n",
        "\n",
        "В уравнении логистической регрессии h является зависимой или откликающей переменной, а x — независимой переменной. Параметр бета или коэффициент в этой модели обычно оценивается с помощью метода максимального правдоподобия (MLE). Этот метод проверяет различные значения бета через множество итераций для оптимизации наилучшего соответствия логарифма шансов. Все эти итерации создают функцию логарифмического правдоподобия, и логистическая регрессия стремится максимизировать эту функцию для нахождения наилучшей оценки параметра. Как только оптимальный коэффициент (или коэффициенты, если независимых переменных более одной) найден, можно рассчитать условные вероятности для каждого наблюдения, залогарифмировать и суммировать их для получения предсказанной вероятности. Для бинарной классификации вероятность меньше 0,5 предсказывает 0, а вероятность больше 0 предсказывает 1. После вычисления модели важно оценить, насколько хорошо модель предсказывает зависимую переменную, что называется качеством подгонки.\n",
        "\n",
        "#### Бинарная логистическая регрессия\n",
        "\n",
        "В этом подходе зависимая или откликающая переменная имеет два возможных исхода (например, 0 или 1). Некоторые популярные примеры ее использования включают предсказание, является ли электронное письмо спамом или нет, или определение, является ли опухоль злокачественной. В рамках логистической регрессии это наиболее часто используемый подход, и, в более широком смысле, один из наиболее распространенных классификаторов для бинарной классификации.\n",
        "\n",
        "#### Многозначная логистическая регрессия\n",
        "\n",
        "В этом типе модели логистической регрессии зависимая переменная имеет три или более возможных исходов, которые не упорядочены. Например, кинопродюсеры могут захотеть предсказать, какой жанр фильма скорее всего выберет зритель, чтобы более эффективно рекламировать фильмы. Многозначная логистическая регрессия может помочь определить, насколько возраст, пол и семейное положение человека могут повлиять на его предпочтения в кино. Затем студия может нацелить рекламную кампанию конкретного фильма на группу людей, которые, как ожидается, пойдут его смотреть."
      ]
    },
    {
      "cell_type": "code",
      "execution_count": null,
      "metadata": {
        "execution": {
          "iopub.execute_input": "2022-09-16T14:45:44.802045Z",
          "iopub.status.busy": "2022-09-16T14:45:44.801156Z",
          "iopub.status.idle": "2022-09-16T14:45:51.254826Z",
          "shell.execute_reply": "2022-09-16T14:45:51.253734Z"
        },
        "papermill": {
          "duration": 6.472468,
          "end_time": "2022-09-16T14:45:51.257328",
          "exception": false,
          "start_time": "2022-09-16T14:45:44.784860",
          "status": "completed"
        },
        "tags": [],
        "id": "a7320252",
        "outputId": "9b494f5b-abbd-445d-e5d0-8a8275912963"
      },
      "outputs": [
        {
          "name": "stdout",
          "output_type": "stream",
          "text": [
            "Training Accuracy Logistic Regression 87.97443861198488  Test Accuracy Logistic Regression 87.62452867632466\n",
            "Training Precesion Logistic Regression 83.81338426160502  Test Precesion Logistic Regression 83.56894553881807\n",
            "Training Recall Logistic Regression 91.85621836355482  Test Recall Logistic Regression 91.60809552036582\n"
          ]
        },
        {
          "data": {
            "image/png": "[encoded data removed]",
            "text/plain": [
              "<Figure size 720x720 with 2 Axes>"
            ]
          },
          "metadata": {
            "needs_background": "light"
          },
          "output_type": "display_data"
        }
      ],
      "source": [
        "lr = LogisticRegression().fit(x_train, y_train)\n",
        "evaluate_classification(lr, \"Logistic Regression\", x_train, x_test, y_train, y_test)"
      ]
    },
    {
      "cell_type": "markdown",
      "metadata": {
        "papermill": {
          "duration": 0.013896,
          "end_time": "2022-09-16T14:45:51.285855",
          "exception": false,
          "start_time": "2022-09-16T14:45:51.271959",
          "status": "completed"
        },
        "tags": [],
        "id": "91d3ad7a"
      },
      "source": [
        "##  k ближайших соседей, или KNN (k-nearest neighbors)\n",
        "\n",
        "Алгоритм k-ближайших соседей, также известный как KNN, представляет собой непараметрический классификатор с контролируемым обучением, который использует близость для создания классификаций или прогнозов относительно группировки отдельной точки данных. Хотя он может быть использован как для задач регрессии, так и для задач классификации, обычно он используется в качестве алгоритма классификации, основанного на предположении, что похожие точки могут быть найдены рядом друг с другом.\n",
        "\n",
        "<img src=https://i.imgur.com/LZzmAwz.png width=500/>\n",
        "\n",
        "### Определение метрик расстояния\n",
        "\n",
        "Чтобы определить, какие точки данных находятся ближе всего к заданной точке, необходимо рассчитать расстояние между целевой точкой и другими точками из данных. Эти показатели расстояния помогают сформировать границы принятия решения, которые разделяют точки на разные регионы. Можно представить границы принятия решений визуально с помощью диаграммы Вороного.\n",
        "\n",
        "Для расчета различных видов расстояний между векторами $ \\mathbf{a} $ и $ \\mathbf{b} $ в пространстве $ \\mathbb{R}^n $, где $ n $ обозначает размерность пространства, используются следующие формулы.\n",
        "\n",
        "1. **Евклидово расстояние** между двумя точками определяется как квадратный корень из суммы квадратов разностей их соответствующих координат. Формула для евклидова расстояния между $ \\mathbf{a} $ и $ \\mathbf{b} $ выглядит следующим образом:\n",
        "$$ d_{\\text{евклид}}(\\mathbf{a}, \\mathbf{b}) = \\sqrt{\\sum_{i=1}^{n} (a_i - b_i)^2} $$\n",
        "\n",
        "2. **Манхэттенское расстояние**, также известное как расстояние городских кварталов, между двумя точками определяется как сумма абсолютных разностей их соответствующих координат. Формула для манхэттенского расстояния между $ \\mathbf{a} $ и $ \\mathbf{b} $ выглядит так:\n",
        "$$ d_{\\text{манхэттен}}(\\mathbf{a}, \\mathbf{b}) = \\sum_{i=1}^{n} |a_i - b_i| $$\n",
        "\n",
        "3. **Косинусное расстояние** используется для измерения углового расхождения между двумя векторами в многомерном пространстве, игнорируя их магнитуду. Косинусное расстояние между $ \\mathbf{a} $ и $ \\mathbf{b} $ определяется как $1$ минус косинус угла между этими векторами. Формула для косинусного расстояния выглядит как:\n",
        "$$ d_{\\text{косинус}}(\\mathbf{a}, \\mathbf{b}) = 1 - \\frac{\\mathbf{a} \\cdot \\mathbf{b}}{\\|\\mathbf{a}\\| \\|\\mathbf{b}\\|} $$\n",
        "где $ \\mathbf{a} \\cdot \\mathbf{b} $ обозначает скалярное произведение векторов $ \\mathbf{a} $ и $ \\mathbf{b} $, а $ \\|\\mathbf{a}\\| $ и $ \\|\\mathbf{b}\\| $ — их евклидовы нормы, т.е., $\\|\\mathbf{a}\\| = \\sqrt{\\mathbf{a} \\cdot \\mathbf{a}}$ и $\\|\\mathbf{b}\\| = \\sqrt{\\mathbf{b} \\cdot \\mathbf{b}}$.\n",
        "\n",
        "Визуализация метрик расстояния в двумерном пространстве признаков $ \\{{x, y}\\} $:\n",
        "\n",
        "<img src = https://dhd2016.de/abstracts/0010-1.png width=500/>\n",
        "\n",
        "Пример диаграммы Вороного:\n",
        "\n",
        "<img src = https://i.stack.imgur.com/Dn3r4.png width=500/>"
      ]
    },
    {
      "cell_type": "code",
      "execution_count": null,
      "metadata": {
        "execution": {
          "iopub.execute_input": "2022-09-16T14:45:51.316943Z",
          "iopub.status.busy": "2022-09-16T14:45:51.315705Z",
          "iopub.status.idle": "2022-09-16T15:02:29.104107Z",
          "shell.execute_reply": "2022-09-16T15:02:29.102591Z"
        },
        "papermill": {
          "duration": 997.821505,
          "end_time": "2022-09-16T15:02:29.121500",
          "exception": false,
          "start_time": "2022-09-16T14:45:51.299995",
          "status": "completed"
        },
        "tags": [],
        "id": "174202ce",
        "outputId": "ed66eb55-e0db-443f-8096-907d7ed38750"
      },
      "outputs": [
        {
          "name": "stdout",
          "output_type": "stream",
          "text": [
            "Training Accuracy KNeighborsClassifier 99.05236313841452  Test Accuracy KNeighborsClassifier 98.93629688430245\n",
            "Training Precesion KNeighborsClassifier 99.22512234910276  Test Precesion KNeighborsClassifier 99.05636317266003\n",
            "Training Recall KNeighborsClassifier 98.73133850195424  Test Recall KNeighborsClassifier 98.67050554661698\n"
          ]
        },
        {
          "data": {
            "image/png": "[encoded data removed]",
            "text/plain": [
              "<Figure size 720x720 with 2 Axes>"
            ]
          },
          "metadata": {
            "needs_background": "light"
          },
          "output_type": "display_data"
        }
      ],
      "source": [
        "knn = KNeighborsClassifier(n_neighbors=20).fit(x_train, y_train)\n",
        "evaluate_classification(knn, \"KNeighborsClassifier\", x_train, x_test, y_train, y_test)"
      ]
    },
    {
      "cell_type": "markdown",
      "metadata": {
        "papermill": {
          "duration": 0.014551,
          "end_time": "2022-09-16T15:02:29.151007",
          "exception": false,
          "start_time": "2022-09-16T15:02:29.136456",
          "status": "completed"
        },
        "tags": [],
        "id": "b4110572"
      },
      "source": [
        "## Наивный Байес\n",
        "Наивные байесовские классификаторы представляют собой набор алгоритмов классификации, основанных на теореме Байеса. Это не единый алгоритм, а семейство алгоритмов, где все они имеют общий принцип. Каждая пара классифицируемых признаков независима от других.\n",
        "Предположения, сделанные наивной Байесовской моделью нельзя назвать полностью отражающими реальные ситуации. Предположение о независимости признаков в целом никогда не бывает правильным, но имеет обобщающую способность, что позволяет этим моделям хорошо работать на практике.\n",
        "\n",
        "### Теорема Байеса\n",
        "\n",
        "Теорема Байеса определяет вероятность наступления события, учитывая вероятность другого события, которое уже произошло. Теорема Байеса математически сформулирована в виде следующего уравнения:\n",
        "\n",
        "<img src = https://hands-on.cloud/wp-content/uploads/2022/01/Implementing-Naive-Bayes-Classification-using-Python.png width=600/>\n",
        "\n",
        "\n",
        "$$ P(A|B) = \\frac{P(B|A)P(A)}{P(B)} $$\n",
        "\n",
        "где:\n",
        "- $P(A|B)$ — условная вероятность события $A$ при условии, что событие $B$ произошло,\n",
        "- $P(B|A)$ — условная вероятность события $B$ при условии, что событие $A$ произошло,\n",
        "- $P(A)$ — априорная (безусловная) вероятность события $A$,\n",
        "- $P(B)$ — априорная (безусловная) вероятность события $B$.\n",
        "\n",
        "Модель наивного Байеса — это простой вероятностный классификатор, основанный на применении теоремы Байеса с \"наивным\" предположением о независимости между признаками. Несмотря на свою простоту, наивный байесовский классификатор может работать лучше, чем другие, более сложные классификационные методы, особенно в случаях с малым объемом данных или когда предположение о независимости не сильно нарушено.\n",
        "\n",
        "## Как работает наивный байесовский классификатор\n",
        "\n",
        "1. **Предположение о независимости**: Наивный байесовский классификатор предполагает, что эффект любого признака на данное классификационное решение независим от эффектов других признаков. Это упрощение делает вычисления гораздо более управляемыми, но является \"наивным\", отсюда и название.\n",
        "\n",
        "2. **Применение теоремы Байеса**: Для классификации объекта модель вычисляет вероятность того, что объект принадлежит к каждому из возможных классов, на основе признаков объекта. Это делается путем применения теоремы Байеса для каждого класса, чтобы пересчитать априорную вероятность класса в апостериорную вероятность, учитывая наблюдаемые признаки объекта.\n",
        "\n",
        "### Формулировка\n",
        "\n",
        "Для объекта с признаками $X = (x_1, x_2, ..., x_n)$ и классами $C_k$, вероятность того, что объект принадлежит к классу $C_k$, рассчитывается как:\n",
        "\n",
        "$$ P(C_k|X) = \\frac{P(X|C_k)P(C_k)}{P(X)} $$\n",
        "\n",
        "где:\n",
        "- $P(C_k|X)$ — апостериорная (условная) вероятность класса $C_k$ при условии признаков $X$,\n",
        "- $P(X|C_k)$ — вероятность признаков $X$ при условии класса $C_k$, которая, в силу наивного предположения о независимости, вычисляется как произведение вероятностей каждого признака $x_i$ для класса $C_k$,\n",
        "- $P(C_k)$ — априорная вероятность класса $C_k$,\n",
        "- $P(X)$ — вероятность признаков $X$, обычно рассматривается как константа для всех классов и не влияет на классификацию.\n",
        "\n",
        "### Применение\n",
        "\n",
        "Модель выбирает класс $C_k$ с наивысшей апостериорной (условной) вероятностью $P(C_k|X)$ для данного объекта. Наивный байесовский классификатор особенно хорошо подходит для задач классификации текстов, таких как фильтрация спама и анализ тональности, где признаки (например, частоты слов) могут считаться довольно независимыми в контексте каждого класса.\n"
      ]
    },
    {
      "cell_type": "code",
      "execution_count": null,
      "metadata": {
        "execution": {
          "iopub.execute_input": "2022-09-16T15:02:29.183460Z",
          "iopub.status.busy": "2022-09-16T15:02:29.182946Z",
          "iopub.status.idle": "2022-09-16T15:02:30.604414Z",
          "shell.execute_reply": "2022-09-16T15:02:30.602993Z"
        },
        "papermill": {
          "duration": 1.443489,
          "end_time": "2022-09-16T15:02:30.609660",
          "exception": false,
          "start_time": "2022-09-16T15:02:29.166171",
          "status": "completed"
        },
        "tags": [],
        "id": "a69b13bb",
        "outputId": "6a4bf6c6-c0f4-4553-a23e-7502f723a36f"
      },
      "outputs": [
        {
          "name": "stdout",
          "output_type": "stream",
          "text": [
            "Training Accuracy GaussianNB 91.80269307480874  Test Accuracy GaussianNB 91.60547727723754\n",
            "Training Precesion GaussianNB 92.62657528189256  Test Precesion GaussianNB 92.53246753246754\n",
            "Training Recall GaussianNB 89.47907990004485  Test Recall GaussianNB 89.29629943263613\n"
          ]
        },
        {
          "data": {
            "image/png": "[encoded data removed]",
            "text/plain": [
              "<Figure size 720x720 with 2 Axes>"
            ]
          },
          "metadata": {
            "needs_background": "light"
          },
          "output_type": "display_data"
        }
      ],
      "source": [
        "gnb = GaussianNB().fit(x_train, y_train)\n",
        "evaluate_classification(gnb, \"GaussianNB\", x_train, x_test, y_train, y_test)"
      ]
    },
    {
      "cell_type": "markdown",
      "metadata": {
        "papermill": {
          "duration": 0.015305,
          "end_time": "2022-09-16T15:02:30.642185",
          "exception": false,
          "start_time": "2022-09-16T15:02:30.626880",
          "status": "completed"
        },
        "tags": [],
        "id": "53a53796"
      },
      "source": [
        "## Метод опорных векторов\n",
        "Метод опорных векторов (SVM, от англ. Support Vector Machine) — это мощный и гибкий класс алгоритмов машинного обучения, используемый для задач классификации и регрессии. SVM стремится найти гиперплоскость (или набор гиперплоскостей) в многомерном пространстве, которая наилучшим образом разделяет данные на классы.\n",
        "\n",
        "### Основная идея\n",
        "\n",
        "Основная идея SVM заключается в максимизации ширины отступа (margin) между классами. Отступ (или зазор) — это расстояние между гиперплоскостью, разделяющей классы, и ближайшими к этой плоскости точками данных (опорными векторами). Цель состоит в том, чтобы найти такую гиперплоскость, которая максимизирует ширину отступа, обеспечивая наилучшее разделение между классами.\n",
        "\n",
        "### Формулировка задачи\n",
        "\n",
        "Для двухклассовой классификации, где метки классов обозначены через $y_i \\in \\{-1, 1\\}$, и каждому объекту $x_i$ сопоставлена метка $y_i$, SVM ищет решение задачи оптимизации:\n",
        "\n",
        "$$ \\min_{w, b} \\frac{1}{2} \\|w\\|^2 + C \\sum_{i=1}^{n} \\xi_i $$\n",
        "\n",
        "при условиях:\n",
        "\n",
        "$$ y_i(w \\cdot x_i + b) \\geq 1 - \\xi_i, \\quad \\xi_i \\geq 0, \\quad i=1, \\ldots, n, $$\n",
        "\n",
        "где $w$ — вектор весов, $b$ — смещение, $\\xi_i$ — переменные, измеряющие ошибку для каждого объекта, а $C$ — параметр регуляризации, контролирующий компромисс между максимизацией ширины отступа и минимизацией количества ошибочных классификаций.\n",
        "\n",
        "<img src=https://habrastorage.org/r/w1560/webt/n-/5u/gy/n-5ugyyyqejoobj9javfcxaycpk.png width=600/>\n",
        "\n",
        "### Ядра SVM\n",
        "\n",
        "В случаях, когда данные не линейно разделимы в исходном пространстве, SVM использует так называемые ядра, позволяющие эффективно производить вычисления в пространствах высокой размерности без необходимости явного отображения данных в эти пространства. Ядерные функции (kernel functions) позволяют измерять сходство между объектами в пространстве высокой размерности, используя лишь исходные данные. Распространенными типами ядер являются линейное, полиномиальное, радиально-базисное (RBF) и сигмоидальное.\n",
        "\n",
        "#### Линейное ядро\n",
        "Линейное ядро — это самый простой тип ядра, используемый для линейной классификации. Формула линейного ядра:\n",
        "$$ K(x, x') = x^T x' $$\n",
        "где $x$ и $x'$ — два вектора признаков. Это ядро просто вычисляет скалярное произведение между двумя векторами в исходном признаковом пространстве.\n",
        "\n",
        "#### Полиномиальное ядро\n",
        "Полиномиальное ядро позволяет модели лучше улавливать взаимосвязи между признаками за счет добавления полиномиальных характеристик в пространство признаков. Формула:\n",
        "$$ K(x, x') = (\\gamma x^T x' + r)^d $$\n",
        "где $\\gamma$ — коэффициент масштаба, $r$ — независимый член, а $d$ — степень полинома.\n",
        "\n",
        "#### Радиально-базисное ядро (RBF)\n",
        "Радиально-базисное функциональное ядро, или просто RBF-ядро, является одним из наиболее популярных и универсальных ядер, используемых в SVM. Оно определяется как:\n",
        "$$ K(x, x') = \\exp(-\\gamma \\|x - x'\\|^2) $$\n",
        "где $\\gamma$ — параметр, который определяет ширину \"пика\" ядра. RBF-ядро эффективно преобразует исходное пространство в бесконечномерное пространство, позволяя эффективно разделять данные, которые не разделимы в исходном пространстве.\n",
        "\n",
        "#### Сигмоидальное ядро\n",
        "Сигмоидальное ядро, иногда называемое гиперболическим тангенсом, имитирует использование нейронных сетей и определяется как:\n",
        "$$ K(x, x') = \\tanh(\\gamma x^T x' + r) $$\n",
        "где $\\gamma$ — коэффициент масштаба, а $r$ — независимый член. Хотя сигмоидальное ядро может быть полезно в определенных контекстах, его использование может привести к некоторым трудностям, например, к отсутствию положительной определенности.\n",
        "\n",
        "\n",
        "### Применение\n",
        "\n",
        "SVM широко используется в таких областях, как распознавание образов, анализ текста и биоинформатика, благодаря своей способности к эффективной классификации даже в случаях, когда размерность данных значительно превышает количество образцов."
      ]
    },
    {
      "cell_type": "code",
      "execution_count": null,
      "metadata": {
        "execution": {
          "iopub.execute_input": "2022-09-16T15:02:30.675988Z",
          "iopub.status.busy": "2022-09-16T15:02:30.674671Z",
          "iopub.status.idle": "2022-09-16T15:02:58.018616Z",
          "shell.execute_reply": "2022-09-16T15:02:58.017050Z"
        },
        "papermill": {
          "duration": 27.364109,
          "end_time": "2022-09-16T15:02:58.021916",
          "exception": false,
          "start_time": "2022-09-16T15:02:30.657807",
          "status": "completed"
        },
        "tags": [],
        "id": "29aed8ad"
      },
      "outputs": [],
      "source": [
        "lin_svc = svm.LinearSVC().fit(x_train, y_train)"
      ]
    },
    {
      "cell_type": "code",
      "execution_count": null,
      "metadata": {
        "execution": {
          "iopub.execute_input": "2022-09-16T15:02:58.055442Z",
          "iopub.status.busy": "2022-09-16T15:02:58.054936Z",
          "iopub.status.idle": "2022-09-16T15:02:58.757400Z",
          "shell.execute_reply": "2022-09-16T15:02:58.755831Z"
        },
        "papermill": {
          "duration": 0.72242,
          "end_time": "2022-09-16T15:02:58.760166",
          "exception": false,
          "start_time": "2022-09-16T15:02:58.037746",
          "status": "completed"
        },
        "tags": [],
        "id": "c737c067",
        "outputId": "b9d9ba71-0dc0-422e-e546-37d8030b9524"
      },
      "outputs": [
        {
          "name": "stdout",
          "output_type": "stream",
          "text": [
            "Training Accuracy Linear SVC(LBasedImpl) 97.48454508469194  Test Accuracy Linear SVC(LBasedImpl) 97.28914467156183\n",
            "Training Precesion Linear SVC(LBasedImpl) 97.85399377593362  Test Precesion Linear SVC(LBasedImpl) 97.54700854700855\n",
            "Training Recall Linear SVC(LBasedImpl) 96.70660601012366  Test Recall Linear SVC(LBasedImpl) 96.64662545516131\n"
          ]
        },
        {
          "data": {
            "image/png": "[encoded data removed]",
            "text/plain": [
              "<Figure size 720x720 with 2 Axes>"
            ]
          },
          "metadata": {
            "needs_background": "light"
          },
          "output_type": "display_data"
        }
      ],
      "source": [
        "evaluate_classification(lin_svc, \"Linear SVC(LBasedImpl)\", x_train, x_test, y_train, y_test)"
      ]
    },
    {
      "cell_type": "markdown",
      "metadata": {
        "papermill": {
          "duration": 0.01592,
          "end_time": "2022-09-16T15:02:58.792202",
          "exception": false,
          "start_time": "2022-09-16T15:02:58.776282",
          "status": "completed"
        },
        "tags": [],
        "id": "4d6c0d1a"
      },
      "source": [
        "## Решающее дерево (decision Tree)\n",
        "\n",
        "Дерево решений — это один из самых мощных и популярных инструментов для классификации и прогнозирования. Дерево решений представляет собой структуру, похожую на блок-схему, где каждый внутренний узел обозначает проверку атрибута, каждая ветвь представляет собой результат проверки, а каждый листовой узел (конечный узел) содержит метку класса.\n",
        "\n",
        "Дерево можно \"обучить\", разделив исходный набор на подмножества на основе некого порогового значения атрибута. Этот процесс повторяется для каждого полученного подмножества рекурсивным способом, называемым рекурсивным разбиением. Рекурсия завершается, когда подмножество в узле имеет одинаковое значение целевой переменной, или когда дальнейшее разбиение не приносит дополнительной ценности для прогнозов.\n",
        "Деревья решений классифицируют экземпляры, направляя их вниз по дереву от корня к какому-либо листовому узлу, который предоставляет классификацию экземпляра. Классификация экземпляра начинается с корневого узла дерева (сверху то есть), проверяется атрибут, указанный этим узлом, затем перемещение вниз по ветви дерева в соответствии со значением атрибута, как показано на рисунке выше. Этот процесс затем повторяется для поддерева, начинающегося с нового узла.\n",
        "\n",
        "Представим дерево решений глубиной $2$, построенное после обучения на данных с двумя признаками: $a$ и $b$. В первом узле идет разделение по признаку $b$ ($b \\le 0.02$). На втором уровне те объекты, у которых $b \\le 0.02$, разделяются теперь по условию $a \\le -0.52$. А те объекты, у которых $b > 0.02$, разделяются по условию $a \\le 1.462$.\n",
        "\n",
        "<img src= https://i.stack.imgur.com/QKmhZ.png width=500/>"
      ]
    },
    {
      "cell_type": "code",
      "execution_count": null,
      "metadata": {
        "execution": {
          "iopub.execute_input": "2022-09-16T15:02:58.826177Z",
          "iopub.status.busy": "2022-09-16T15:02:58.825724Z",
          "iopub.status.idle": "2022-09-16T15:03:03.347034Z",
          "shell.execute_reply": "2022-09-16T15:03:03.346107Z"
        },
        "papermill": {
          "duration": 4.540957,
          "end_time": "2022-09-16T15:03:03.349354",
          "exception": false,
          "start_time": "2022-09-16T15:02:58.808397",
          "status": "completed"
        },
        "tags": [],
        "id": "68e9e8c4",
        "outputId": "88387147-fa98-4ae2-ee7c-6e6dd9283cbc"
      },
      "outputs": [
        {
          "name": "stdout",
          "output_type": "stream",
          "text": [
            "Training Accuracy DecisionTreeClassifier 99.99404626055548  Test Accuracy DecisionTreeClassifier 99.86902163127604\n",
            "Training Precesion DecisionTreeClassifier 100.0  Test Precesion DecisionTreeClassifier 99.84761259735862\n",
            "Training Recall DecisionTreeClassifier 99.98718523739348  Test Recall DecisionTreeClassifier 99.87297823693793\n"
          ]
        },
        {
          "data": {
            "image/png": "[encoded data removed]",
            "text/plain": [
              "<Figure size 720x720 with 2 Axes>"
            ]
          },
          "metadata": {
            "needs_background": "light"
          },
          "output_type": "display_data"
        }
      ],
      "source": [
        "dt = DecisionTreeClassifier(max_depth=3).fit(x_train, y_train)\n",
        "tdt = DecisionTreeClassifier().fit(x_train, y_train)\n",
        "evaluate_classification(tdt, \"DecisionTreeClassifier\", x_train, x_test, y_train, y_test)"
      ]
    },
    {
      "cell_type": "code",
      "execution_count": null,
      "metadata": {
        "execution": {
          "iopub.execute_input": "2022-09-16T15:03:03.384391Z",
          "iopub.status.busy": "2022-09-16T15:03:03.383941Z",
          "iopub.status.idle": "2022-09-16T15:03:03.707941Z",
          "shell.execute_reply": "2022-09-16T15:03:03.706636Z"
        },
        "papermill": {
          "duration": 0.344481,
          "end_time": "2022-09-16T15:03:03.710517",
          "exception": false,
          "start_time": "2022-09-16T15:03:03.366036",
          "status": "completed"
        },
        "tags": [],
        "id": "2089e011",
        "outputId": "95f4e603-73cc-43bf-9369-9d98ec03348d"
      },
      "outputs": [
        {
          "data": {
            "image/png": "[encoded data removed]",
            "text/plain": [
              "<Figure size 720x720 with 1 Axes>"
            ]
          },
          "metadata": {
            "needs_background": "light"
          },
          "output_type": "display_data"
        }
      ],
      "source": [
        "def f_importances(coef, names, top=-1):\n",
        "    imp = coef\n",
        "    imp, names = zip(*sorted(list(zip(imp, names))))\n",
        "\n",
        "    # Show all features\n",
        "    if top == -1:\n",
        "        top = len(names)\n",
        "\n",
        "    plt.figure(figsize=(10,10))\n",
        "    plt.barh(range(top), imp[::-1][0:top], align='center')\n",
        "    plt.yticks(range(top), names[::-1][0:top])\n",
        "    plt.title('feature importances for Decision Tree')\n",
        "    plt.show()\n",
        "\n",
        "features_names = data_train.drop(['outcome', 'level'] , axis = 1)\n",
        "f_importances(abs(tdt.feature_importances_), features_names, top=18)"
      ]
    },
    {
      "cell_type": "code",
      "execution_count": null,
      "metadata": {
        "execution": {
          "iopub.execute_input": "2022-09-16T15:03:03.747978Z",
          "iopub.status.busy": "2022-09-16T15:03:03.746725Z",
          "iopub.status.idle": "2022-09-16T15:03:04.743857Z",
          "shell.execute_reply": "2022-09-16T15:03:04.742642Z"
        },
        "papermill": {
          "duration": 1.019005,
          "end_time": "2022-09-16T15:03:04.747354",
          "exception": false,
          "start_time": "2022-09-16T15:03:03.728349",
          "status": "completed"
        },
        "tags": [],
        "id": "a8db99c7",
        "outputId": "bbf5948f-899a-4a66-f6b6-5596b30140d3"
      },
      "outputs": [
        {
          "data": {
            "text/plain": [
              "[Text(0.5, 0.875, 'X[5] <= -0.056\\ngini = 0.497\\nsamples = 100777\\nvalue = [53956, 46821]'),\n",
              " Text(0.25, 0.625, 'X[65] <= 0.5\\ngini = 0.149\\nsamples = 46560\\nvalue = [3778, 42782]'),\n",
              " Text(0.125, 0.375, 'X[6] <= 0.005\\ngini = 0.061\\nsamples = 43088\\nvalue = [1358, 41730]'),\n",
              " Text(0.0625, 0.125, 'gini = 0.031\\nsamples = 42229\\nvalue = [661, 41568]'),\n",
              " Text(0.1875, 0.125, 'gini = 0.306\\nsamples = 859\\nvalue = [697, 162]'),\n",
              " Text(0.375, 0.375, 'X[30] <= -0.211\\ngini = 0.422\\nsamples = 3472\\nvalue = [2420, 1052]'),\n",
              " Text(0.3125, 0.125, 'gini = 0.021\\nsamples = 1033\\nvalue = [11, 1022]'),\n",
              " Text(0.4375, 0.125, 'gini = 0.024\\nsamples = 2439\\nvalue = [2409, 30]'),\n",
              " Text(0.75, 0.625, 'X[56] <= 0.5\\ngini = 0.138\\nsamples = 54217\\nvalue = [50178, 4039]'),\n",
              " Text(0.625, 0.375, 'X[9] <= 0.5\\ngini = 0.066\\nsamples = 51813\\nvalue = [50032, 1781]'),\n",
              " Text(0.5625, 0.125, 'gini = 0.027\\nsamples = 49719\\nvalue = [49043, 676]'),\n",
              " Text(0.6875, 0.125, 'gini = 0.498\\nsamples = 2094\\nvalue = [989, 1105]'),\n",
              " Text(0.875, 0.375, 'X[5] <= 0.899\\ngini = 0.114\\nsamples = 2404\\nvalue = [146, 2258]'),\n",
              " Text(0.8125, 0.125, 'gini = 0.0\\nsamples = 146\\nvalue = [146, 0]'),\n",
              " Text(0.9375, 0.125, 'gini = 0.0\\nsamples = 2258\\nvalue = [0, 2258]')]"
            ]
          },
          "execution_count": 24,
          "metadata": {},
          "output_type": "execute_result"
        },
        {
          "data": {
            "image/png": "[encoded data removed]",
            "text/plain": [
              "<Figure size 1080x864 with 1 Axes>"
            ]
          },
          "metadata": {
            "needs_background": "light"
          },
          "output_type": "display_data"
        }
      ],
      "source": [
        "fig = plt.figure(figsize=(15,12))\n",
        "tree.plot_tree(dt , filled=True)"
      ]
    },
    {
      "cell_type": "markdown",
      "metadata": {
        "papermill": {
          "duration": 0.019247,
          "end_time": "2022-09-16T15:03:04.786149",
          "exception": false,
          "start_time": "2022-09-16T15:03:04.766902",
          "status": "completed"
        },
        "tags": [],
        "id": "76fdcfd8"
      },
      "source": [
        "## Random forest\n",
        "\n",
        "<img src=https://www.researchgate.net/publication/354354484/figure/fig4/AS:1080214163595269@1634554534720/Illustration-of-random-forest-trees.jpg width=600/>\n",
        "\n",
        "Алгоритм \"Случайный лес\" (Random Forest) представляет собой метод ансамблевого обучения, который используется для задач классификации, регрессии и других. Он строится на основе множества деревьев решений, обученных на различных подвыборках обучающего набора данных, и использует усреднение для улучшения точности прогнозирования и контроля переобучения.\n",
        "\n",
        "### Как работает Случайный лес:\n",
        "Создание подвыборок данных: Из исходного набора данных создаются множественные подвыборки с помощью метода бутстрапа (выборки с возвращением), что означает, что одни и те же данные могут появляться несколько раз в одной подвыборке.\n",
        "\n",
        "* Построение деревьев решений: Для каждой подвыборки строится дерево решений. В процессе построения каждого дерева, на каждом шаге разбиения выбирается случайный набор признаков, и лучшее разбиение находится только среди этих признаков, а не среди всех возможных. Это увеличивает разнообразие среди деревьев в лесу.\n",
        "\n",
        "* Голосование за прогноз: Для задач классификации - каждое дерево в лесу голосует за класс, и класс с наибольшим числом голосов становится предсказанием леса. То есть выбирается ответ, который дало наибольшее количество деревьев в модели леса. Для задач регрессии - результат предсказания получается путем усреднения ответов всех деревьев.\n",
        "\n",
        "#### Преимущества:\n",
        "* Высокая точность: Случайный лес может достигать высокой точности классификации и регрессии на многих наборах данных, поскольку ансамбль деревьев уменьшает риск переобучения на одном дереве.\n",
        "\n",
        "* Устойчивость к переобучению: Благодаря методам бутстрапа и случайному выбору признаков, случайный лес лучше справляется с переобучением по сравнению с одиночными деревьями решений.\n",
        "\n",
        "* Важность признаков: Случайный лес может предоставить оценки важности признаков, что является полезным инструментом для понимания того, какие признаки вносят наибольший вклад в прогноз.\n",
        "\n",
        "* Гибкость: Может быть использован как для задач классификации, так и для регрессии.\n",
        "\n",
        "#### Недостатки:\n",
        "* Модель может быть довольно большой: Набор из сотен или тысяч деревьев может потреблять значительное количество памяти и быть относительно медленным для предсказаний.\n",
        "\n",
        "* Сложность интерпретации: По сравнению с одним деревом решений, ансамбль из множества деревьев может быть сложнее интерпретировать."
      ]
    },
    {
      "cell_type": "code",
      "execution_count": null,
      "metadata": {
        "execution": {
          "iopub.execute_input": "2022-09-16T15:03:04.826243Z",
          "iopub.status.busy": "2022-09-16T15:03:04.825794Z",
          "iopub.status.idle": "2022-09-16T15:03:27.867392Z",
          "shell.execute_reply": "2022-09-16T15:03:27.866093Z"
        },
        "papermill": {
          "duration": 23.064575,
          "end_time": "2022-09-16T15:03:27.870017",
          "exception": false,
          "start_time": "2022-09-16T15:03:04.805442",
          "status": "completed"
        },
        "tags": [],
        "outputId": "b5beba03-8635-4d2a-9c0b-ca16382e249f",
        "id": "jdDh7xO9_UUK"
      },
      "outputs": [
        {
          "name": "stdout",
          "output_type": "stream",
          "text": [
            "Training Accuracy RandomForestClassifier 99.99404626055548  Test Accuracy RandomForestClassifier 99.87695971422902\n",
            "Training Precesion RandomForestClassifier 99.9914571898426  Test Precesion RandomForestClassifier 99.9321688994404\n",
            "Training Recall RandomForestClassifier 99.99572841246449  Test Recall RandomForestClassifier 99.80523329663816\n"
          ]
        },
        {
          "data": {
            "image/png": "[encoded data removed]",
            "text/plain": [
              "<Figure size 720x720 with 2 Axes>"
            ]
          },
          "metadata": {
            "needs_background": "light"
          },
          "output_type": "display_data"
        }
      ],
      "source": [
        "rf = RandomForestClassifier().fit(x_train, y_train)\n",
        "evaluate_classification(rf, \"RandomForestClassifier\", x_train, x_test, y_train, y_test)"
      ]
    },
    {
      "cell_type": "code",
      "execution_count": null,
      "metadata": {
        "execution": {
          "iopub.execute_input": "2022-09-16T15:03:27.911822Z",
          "iopub.status.busy": "2022-09-16T15:03:27.911294Z",
          "iopub.status.idle": "2022-09-16T15:03:28.227748Z",
          "shell.execute_reply": "2022-09-16T15:03:28.226366Z"
        },
        "papermill": {
          "duration": 0.341272,
          "end_time": "2022-09-16T15:03:28.230810",
          "exception": false,
          "start_time": "2022-09-16T15:03:27.889538",
          "status": "completed"
        },
        "tags": [],
        "id": "dcdc708f",
        "outputId": "fd940659-6476-4c35-e7fc-e6ddbfab311e"
      },
      "outputs": [
        {
          "data": {
            "image/png": "[encoded data removed]",
            "text/plain": [
              "<Figure size 720x720 with 1 Axes>"
            ]
          },
          "metadata": {
            "needs_background": "light"
          },
          "output_type": "display_data"
        }
      ],
      "source": [
        "f_importances(abs(rf.feature_importances_), features_names, top=18)"
      ]
    },
    {
      "cell_type": "markdown",
      "source": [
        "## Регуляризация в машинном обучении\n",
        "\n",
        "Регуляризация — это методика, применяемая для предотвращения переобучения моделей машинного обучения. Это достигается за счет добавления штрафа к величине коэффициентов модели, что ведет к более простым моделям и улучшает их способность к обобщению на новых данных.\n",
        "\n",
        "### Применение регуляризации:\n",
        "\n",
        "Регуляризация применяется во множестве алгоритмов машинного обучения, включая линейную и логистическую регрессию, нейронные сети и др. Оптимальное значение $\\lambda$ и выбор типа регуляризации обычно находятся с помощью кросс-валидации.\n",
        "\n",
        "\n",
        "### Виды регуляризации:\n",
        "\n",
        "1. **L1-регуляризация (Лассо регрессия):**\n",
        "\n",
        "   Добавляет к функции стоимости штраф, равный абсолютной сумме коэффициентов.\n",
        "   $$ \\text{L1}: \\text{Cost Function} + \\lambda \\sum_{j=1}^{n} |w_j| $$\n",
        "\n",
        "2. **L2-регуляризация (Ридж регрессия):**\n",
        "\n",
        "   Добавляет к функции стоимости штраф, равный сумме квадратов коэффициентов.\n",
        "   $$ \\text{L2}: \\text{Cost Function} + \\lambda \\sum_{j=1}^{n} w_j^2 $$\n",
        "\n",
        "3. **Elastic Net:**\n",
        "\n",
        "   Комбинирует L1 и L2 регуляризации, что особенно полезно при наличии множества коррелирующих признаков.\n",
        "   $$ \\text{Elastic Net}: \\text{Cost Function} + \\rho \\lambda \\sum_{j=1}^{n} |w_j| + \\frac{1-\\rho}{2} \\lambda \\sum_{j=1}^{n} w_j^2 $$\n",
        "\n",
        "### Значение параметров:\n",
        "\n",
        "- $\\lambda$ — параметр регуляризации, контролирующий силу штрафа.\n",
        "- $\\rho$ — параметр, балансирующий влияние L1 и L2 регуляризаций в Elastic Net.\n",
        "\n",
        "### Преимущества регуляризации:\n",
        "\n",
        "- Помогает предотвратить переобучение, ограничивая сложность модели.\n",
        "- Улучшает обобщающую способность модели на новых данных.\n",
        "- L1-регуляризация может использоваться для отбора признаков, поскольку она может обнулить коэффициенты менее значимых признаков.\n",
        "\n",
        "### Иллюстрация переобучения (того, с чем борется регуляризация)\n",
        "<img src=\"https://s3.amazonaws.com/media-p.slid.es/uploads/1473020/images/7929180/pasted-from-clipboard.png\" width=\"600\"/>"
      ],
      "metadata": {
        "id": "yo_I889_7dC4"
      }
    },
    {
      "cell_type": "markdown",
      "source": [
        "## Кросс-валидация в машинном обучении\n",
        "\n",
        "Кросс-валидация — это статистический метод, используемый для оценки способности модели к обобщению на независимый набор данных. Этот метод особенно полезен в ситуациях, когда объем данных ограничен, и целью является минимизация ошибки на тестовом наборе данных.\n",
        "\n",
        "### Основные типы кросс-валидации:\n",
        "\n",
        "1. **k-кратная кросс-валидация (k-fold cross-validation):**\n",
        "\n",
        "   Данные разделяются на k одинаковых (или почти одинаковых) блоков. Модель обучается на k-1 блоках данных, а оставшийся блок используется для тестирования. Процесс повторяется k раз, каждый раз с разным блоком в качестве тестового набора.\n",
        "   $$ \\text{CV}_k = \\frac{1}{k} \\sum_{i=1}^{k} \\text{Accuracy}_i $$\n",
        "\n",
        "2. **Оставить-один-выходом (Leave-One-Out (LOO) cross-validation):**\n",
        "\n",
        "   Это частный случай k-кратной кросс-валидации, где k равно количеству наблюдений в наборе данных. То есть, для n наблюдений, модель обучается n раз, каждый раз используя все данные, кроме одного наблюдения, которое используется в качестве теста.\n",
        "   $$ \\text{LOO-CV} = \\frac{1}{n} \\sum_{i=1}^{n} \\text{Error}_i $$\n",
        "\n",
        "\n",
        "### Иллюстрация кросс-валидации\n",
        "\n",
        "<img src=\"https://avatars.mds.yandex.net/i?id=ce35c5ae328793a186f71d6b629681fd0fa29915-5239137-images-thumbs&n=13\" width=\"600\"/>\n",
        "\n",
        "### Преимущества кросс-валидации:\n",
        "\n",
        "- **Надежная оценка производительности**: Позволяет лучше оценить, как модель будет работать на независимом наборе данных, поскольку каждый экземпляр данных используется и для обучения, и для тестирования.\n",
        "\n",
        "- **Уменьшение влияния случайности**: Поскольку каждое наблюдение используется для тестирования, результаты менее зависимы от того, как именно данные были разделены на обучающую и тестовую выборки.\n",
        "\n",
        "### Недостатки:\n",
        "\n",
        "- **Высокая вычислительная стоимость**: Особенно для больших наборов данных или моделей с длительным временем обучения, поскольку требуется обучать и тестировать модель множество раз.\n",
        "\n",
        "- **Не всегда подходит для временных рядов**: Для данных, где порядок наблюдений имеет значение (например, временные ряды), требуются специальные методы кросс-валидации, учитывающие временную структуру данных.\n"
      ],
      "metadata": {
        "id": "lfza78iE-UHq"
      }
    },
    {
      "cell_type": "markdown",
      "metadata": {
        "papermill": {
          "duration": 0.013353,
          "end_time": "2022-09-16T14:45:41.128444",
          "exception": false,
          "start_time": "2022-09-16T14:45:41.115091",
          "status": "completed"
        },
        "tags": [],
        "id": "8f889e9a"
      },
      "source": [
        "## Анализ основных компонентов\n",
        "\n",
        "Анализ основных компонент, или PCA (Principal Component Analysis), - это статистический метод преобразования данных высокой размерности в данные низкой размерности путем выбора наиболее важных объектов данных, которые содержат максимум информации о наборе данных. Объекты выбираются на основе различий, которые они вызывают в выходных данных. Признак, \"объясняющий\" наибольшую дисперсию, является первым основным компонентом. Признак, отвечающий за вторую по величине дисперсию, считается вторым основным компонентом и так далее. Важно отметить, что основные компоненты не имеют никакой корреляции друг с другом.\n",
        "\n",
        "<img src = https://hands-on.cloud/wp-content/uploads/2022/02/Implementing-Principal-component-analysis-PCA-using-Python.png width = \"600\"/>\n",
        "\n",
        "#### Преимущества PCA\n",
        "\n",
        "Существует два основных преимущества уменьшения размерности с помощью PCA.\n",
        "\n",
        "* Время обучения алгоритмов значительно сокращается при меньшем количестве функций.\n",
        "* Не всегда возможно анализировать данные в больших размерах. Например, если в наборе данных 100 объектов. Общее количество точечных диаграмм, необходимых для визуализации данных, составит 100(100-1)2 = 4950. Практически невозможно проанализировать данные таким образом."
      ]
    },
    {
      "cell_type": "code",
      "execution_count": null,
      "metadata": {
        "execution": {
          "iopub.execute_input": "2022-09-16T14:45:41.160368Z",
          "iopub.status.busy": "2022-09-16T14:45:41.159853Z",
          "iopub.status.idle": "2022-09-16T14:45:44.625029Z",
          "shell.execute_reply": "2022-09-16T14:45:44.623398Z"
        },
        "papermill": {
          "duration": 3.48589,
          "end_time": "2022-09-16T14:45:44.628923",
          "exception": false,
          "start_time": "2022-09-16T14:45:41.143033",
          "status": "completed"
        },
        "tags": [],
        "id": "09d3d0b5",
        "outputId": "25d585da-2c46-4226-90dd-cfafc1b8d60b",
        "colab": {
          "base_uri": "https://localhost:8080/"
        }
      },
      "outputs": [
        {
          "output_type": "stream",
          "name": "stdout",
          "text": [
            "Количество оригинальных признаков равно 122, а уменьшенных признаков равно 20\n"
          ]
        }
      ],
      "source": [
        "x = scaled_train.drop(['label', 'level'] , axis = 1).values\n",
        "y = scaled_train['label'].values\n",
        "y_reg = scaled_train['level'].values\n",
        "\n",
        "pca = PCA(n_components=20)\n",
        "pca = pca.fit(x)\n",
        "x_reduced = pca.transform(x)\n",
        "print(f\"Количество оригинальных признаков равно {x.shape[1]}, а уменьшенных признаков равно {x_reduced.shape[1]}\")\n",
        "\n",
        "y = y.astype('int')\n",
        "x_train, x_test, y_train, y_test = train_test_split(x, y, test_size=0.2, random_state=42)\n",
        "x_train_reduced, x_test_reduced, y_train_reduced, y_test_reduced = train_test_split(x_reduced, y, test_size=0.2, random_state=42)\n",
        "x_train_reg, x_test_reg, y_train_reg, y_test_reg = train_test_split(x, y_reg, test_size=0.2, random_state=42)"
      ]
    },
    {
      "cell_type": "code",
      "source": [],
      "metadata": {
        "id": "7gOQGy7C-Sib"
      },
      "execution_count": null,
      "outputs": []
    }
  ]
}