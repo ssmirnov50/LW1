{
  "nbformat": 4,
  "nbformat_minor": 0,
  "metadata": {
    "colab": {
      "provenance": [],
      "include_colab_link": true
    },
    "kernelspec": {
      "name": "python3",
      "display_name": "Python 3"
    },
    "language_info": {
      "name": "python"
    }
  },
  "cells": [
    {
      "cell_type": "markdown",
      "metadata": {
        "id": "view-in-github",
        "colab_type": "text"
      },
      "source": [
        "<a href=\"https://colab.research.google.com/github/ssmirnov50/LW1/blob/main/BVL.ipynb\" target=\"_parent\"><img src=\"https://colab.research.google.com/assets/colab-badge.svg\" alt=\"Open In Colab\"/></a>"
      ]
    },
    {
      "cell_type": "code",
      "execution_count": 1,
      "metadata": {
        "id": "kg2YYFzWKV4U"
      },
      "outputs": [],
      "source": [
        "import numpy as np\n",
        "import matplotlib.pyplot as plt\n",
        "np.random.seed(1954)\n",
        "\n",
        "def sum_from_exp_distribution(n_rows, lam):   \n",
        "    # Создание  нормированной выбороки данных длиной n_rows  \n",
        "    # экспоненциально распределенной случайной величины. \n",
        "    R = np.zeros(n_rows)\n",
        "    Sum = 0\n",
        "    for i in range(n_rows):\n",
        "        # суммирование значений случайных величин\n",
        "        # n_rows раз.\n",
        "        Sum = Sum + np.random.exponential(lam)\n",
        "    NSum  = Sum / n_rows\n",
        "    return NSum\n"
      ]
    },
    {
      "cell_type": "markdown",
      "source": [
        "Иллюстрация закона больших чисел"
      ],
      "metadata": {
        "id": "KVDq5xCA89Ev"
      }
    },
    {
      "cell_type": "code",
      "source": [
        "n_rows = 10\n",
        "lam = 1.0\n",
        "NSum = sum_from_exp_distribution(n_rows, lam)\n",
        "print ('Нормированная сумма \\n', 'n_rows = ',n_rows, 'Оценка среднего', NSum)\n"
      ],
      "metadata": {
        "colab": {
          "base_uri": "https://localhost:8080/"
        },
        "id": "32IP7CrHKk-X",
        "outputId": "68d1f7a8-f41c-42ec-e2af-040a18b4bc52"
      },
      "execution_count": 2,
      "outputs": [
        {
          "output_type": "stream",
          "name": "stdout",
          "text": [
            "Нормированная сумма \n",
            " n_rows =  10 Оценка среднего 1.5260462318574495\n"
          ]
        }
      ]
    },
    {
      "cell_type": "code",
      "source": [
        "n_rows = 100\n",
        "lam = 1.0\n",
        "NSum = sum_from_exp_distribution(n_rows, lam)\n",
        "print ('Нормированная сумма \\n', 'n_rows = ',n_rows, 'Оценка среднего', NSum)\n"
      ],
      "metadata": {
        "colab": {
          "base_uri": "https://localhost:8080/"
        },
        "outputId": "9bcec3ac-ab29-4ec3-bd5c-7e7a48dcfc08",
        "id": "h26FGYEJ_L4j"
      },
      "execution_count": 3,
      "outputs": [
        {
          "output_type": "stream",
          "name": "stdout",
          "text": [
            "Нормированная сумма \n",
            " n_rows =  100 Оценка среднего 0.8549232048923411\n"
          ]
        }
      ]
    },
    {
      "cell_type": "code",
      "source": [
        "n_rows = 1000\n",
        "lam = 1.0\n",
        "NSum = sum_from_exp_distribution(n_rows, lam)\n",
        "print ('Нормированная сумма \\n', 'n_rows = ',n_rows, 'Оценка среднего', NSum)\n"
      ],
      "metadata": {
        "colab": {
          "base_uri": "https://localhost:8080/"
        },
        "outputId": "0ae70d9d-9ad2-4908-e017-49ffce828e37",
        "id": "vZZBX56b_kIG"
      },
      "execution_count": 4,
      "outputs": [
        {
          "output_type": "stream",
          "name": "stdout",
          "text": [
            "Нормированная сумма \n",
            " n_rows =  1000 Оценка среднего 0.9489206489742379\n"
          ]
        }
      ]
    },
    {
      "cell_type": "code",
      "source": [
        "n_rows = 10000\n",
        "lam = 1.0\n",
        "NSum = sum_from_exp_distribution(n_rows, lam)\n",
        "print ('Нормированная сумма \\n', 'n_rows = ',n_rows, 'Оценка среднего', NSum)\n"
      ],
      "metadata": {
        "colab": {
          "base_uri": "https://localhost:8080/"
        },
        "outputId": "d19b5a0f-6970-4bab-e969-f567a2e6fe05",
        "id": "EduHfrF3_29s"
      },
      "execution_count": 5,
      "outputs": [
        {
          "output_type": "stream",
          "name": "stdout",
          "text": [
            "Нормированная сумма \n",
            " n_rows =  10000 Оценка среднего 1.0010332317087778\n"
          ]
        }
      ]
    }
  ]
}